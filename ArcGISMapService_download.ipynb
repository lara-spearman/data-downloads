{
 "cells": [
  {
   "cell_type": "markdown",
   "metadata": {},
   "source": [
    "# Extract data from a map service"
   ]
  },
  {
   "cell_type": "markdown",
   "metadata": {},
   "source": [
    "https://support.esri.com/en-us/knowledge-base/how-to-how-to-extract-data-from-a-map-service-using-pyt-000019645"
   ]
  },
  {
   "cell_type": "code",
   "execution_count": 1,
   "metadata": {},
   "outputs": [],
   "source": [
    "import urllib.parse\n",
    "import urllib.request \n",
    "import os\n",
    "import arcpy\n",
    "import json\n",
    "import pandas as pd"
   ]
  },
  {
   "cell_type": "code",
   "execution_count": 2,
   "metadata": {},
   "outputs": [],
   "source": [
    "# Add the main filepath\n",
    "main_file_path = \"//192.168.101.45/gis/_Projects/SpeciesDataPrep_20241209_48ad30\"\n",
    "\n",
    "#Setup the Pro environment\n",
    "arcpy.env.overwriteOutput = True\n",
    "arcpy.env.addOutputsToMap = False\n",
    "\n",
    "fgdb = main_file_path + \"/SpeciesDataPrep_Python.gdb\"\n",
    "arcpy.env.workspace = fgdb"
   ]
  },
  {
   "cell_type": "code",
   "execution_count": 3,
   "metadata": {},
   "outputs": [],
   "source": [
    "# Location where data will be downloaded\n",
    "download_location = main_file_path + \"/commondata/userdata/Data_download/Downloads\"\n",
    "item_url_file = \"ItemURL_ArcGIS_6monthUpdates.csv\""
   ]
  },
  {
   "cell_type": "code",
   "execution_count": 4,
   "metadata": {},
   "outputs": [],
   "source": [
    "# Change the current working directory\n",
    "os.chdir(download_location)"
   ]
  },
  {
   "cell_type": "code",
   "execution_count": 5,
   "metadata": {},
   "outputs": [
    {
     "data": {
      "text/plain": [
       "'\\\\\\\\192.168.101.45\\\\gis\\\\_Projects\\\\SpeciesDataPrep_20241209_48ad30\\\\commondata\\\\userdata\\\\Data_download\\\\Downloads'"
      ]
     },
     "execution_count": 5,
     "metadata": {},
     "output_type": "execute_result"
    }
   ],
   "source": [
    "os.getcwd()"
   ]
  },
  {
   "cell_type": "code",
   "execution_count": 6,
   "metadata": {},
   "outputs": [
    {
     "data": {
      "text/html": [
       "<div>\n",
       "<style scoped>\n",
       "    .dataframe tbody tr th:only-of-type {\n",
       "        vertical-align: middle;\n",
       "    }\n",
       "\n",
       "    .dataframe tbody tr th {\n",
       "        vertical-align: top;\n",
       "    }\n",
       "\n",
       "    .dataframe thead th {\n",
       "        text-align: right;\n",
       "    }\n",
       "</style>\n",
       "<table border=\"1\" class=\"dataframe\">\n",
       "  <thead>\n",
       "    <tr style=\"text-align: right;\">\n",
       "      <th></th>\n",
       "      <th>Dataset</th>\n",
       "      <th>Owner</th>\n",
       "      <th>URL</th>\n",
       "    </tr>\n",
       "  </thead>\n",
       "  <tbody>\n",
       "    <tr>\n",
       "      <th>0</th>\n",
       "      <td>Local Nature Reserves (England)</td>\n",
       "      <td>NE</td>\n",
       "      <td>https://services.arcgis.com/JJzESW51TqeY9uat/a...</td>\n",
       "    </tr>\n",
       "    <tr>\n",
       "      <th>1</th>\n",
       "      <td>National Nature Reserves (England)</td>\n",
       "      <td>NE</td>\n",
       "      <td>https://services.arcgis.com/JJzESW51TqeY9uat/a...</td>\n",
       "    </tr>\n",
       "    <tr>\n",
       "      <th>2</th>\n",
       "      <td>Priority Habitats Inventory (England)</td>\n",
       "      <td>NE</td>\n",
       "      <td>https://services.arcgis.com/JJzESW51TqeY9uat/a...</td>\n",
       "    </tr>\n",
       "  </tbody>\n",
       "</table>\n",
       "</div>"
      ],
      "text/plain": [
       "                                 Dataset Owner  \\\n",
       "0        Local Nature Reserves (England)    NE   \n",
       "1     National Nature Reserves (England)    NE   \n",
       "2  Priority Habitats Inventory (England)    NE   \n",
       "\n",
       "                                                 URL  \n",
       "0  https://services.arcgis.com/JJzESW51TqeY9uat/a...  \n",
       "1  https://services.arcgis.com/JJzESW51TqeY9uat/a...  \n",
       "2  https://services.arcgis.com/JJzESW51TqeY9uat/a...  "
      ]
     },
     "execution_count": 6,
     "metadata": {},
     "output_type": "execute_result"
    }
   ],
   "source": [
    "# Read the csv file that contains the desired URL\n",
    "item_url_df = pd.read_csv(main_file_path + \"/commondata/userdata/Data_download/Source_files/\" + item_url_file)\n",
    "item_url_df.head(3)"
   ]
  },
  {
   "cell_type": "code",
   "execution_count": 7,
   "metadata": {},
   "outputs": [
    {
     "data": {
      "text/plain": [
       "['https://services.arcgis.com/JJzESW51TqeY9uat/arcgis/rest/services/Local_Nature_Reserves_England/FeatureServer/0/query?',\n",
       " 'https://services.arcgis.com/JJzESW51TqeY9uat/arcgis/rest/services/National_Nature_Reserves_England/FeatureServer/0/query?',\n",
       " 'https://services.arcgis.com/JJzESW51TqeY9uat/arcgis/rest/services/Priority_Habitats_Inventory_England/FeatureServer/0/query?',\n",
       " 'https://services.arcgis.com/JJzESW51TqeY9uat/arcgis/rest/services/Ramsar_England/FeatureServer/0/query?']"
      ]
     },
     "execution_count": 7,
     "metadata": {},
     "output_type": "execute_result"
    }
   ],
   "source": [
    "# Create a list of the item URLs\n",
    "url_list = item_url_df['URL'].tolist()\n",
    "url_list[:4]"
   ]
  },
  {
   "cell_type": "code",
   "execution_count": 8,
   "metadata": {},
   "outputs": [
    {
     "data": {
      "text/plain": [
       "['Local Nature Reserves (England)',\n",
       " 'National Nature Reserves (England)',\n",
       " 'Priority Habitats Inventory (England)',\n",
       " 'Ramsar (England)']"
      ]
     },
     "execution_count": 8,
     "metadata": {},
     "output_type": "execute_result"
    }
   ],
   "source": [
    "# Create a list of the item names\n",
    "name_list = item_url_df['Dataset'].tolist()\n",
    "name_list[:4]"
   ]
  },
  {
   "cell_type": "code",
   "execution_count": 9,
   "metadata": {},
   "outputs": [],
   "source": [
    "# Query the parameters\n",
    "params = {'where': '1=1',\n",
    "          'geometryType': 'esriGeometryEnvelope',\n",
    "          'spatialRel': 'esriSpatialRelIntersects',\n",
    "          'relationParam': '',\n",
    "          'outFields': '*',\n",
    "          'returnGeometry': 'true',\n",
    "          'geometryPrecision':'',\n",
    "          'outSR': '',\n",
    "          'returnIdsOnly': 'false',\n",
    "          'returnCountOnly': 'false',\n",
    "          'orderByFields': '',\n",
    "          'groupByFieldsForStatistics': '',\n",
    "          'returnZ': 'false',\n",
    "          'returnM': 'false',\n",
    "          'returnDistinctValues': 'false',\n",
    "          'f': 'pjson'\n",
    "         }\n",
    "\n",
    "encode_params = urllib.parse.urlencode(params).encode(\"utf-8\")"
   ]
  },
  {
   "cell_type": "code",
   "execution_count": 10,
   "metadata": {},
   "outputs": [],
   "source": [
    "# Create a request and read it using urllib\n",
    "counter = 0\n",
    "for url in url_list:\n",
    "    response = urllib.request.urlopen(url, encode_params)\n",
    "    json = response.read()\n",
    "    \n",
    "    # Write the JSON response to text file.\n",
    "    with open(name_list[counter] + \".json\", \"wb\") as ms_json:\n",
    "        ms_json.write(json)\n",
    "    \n",
    "    # Convert JSON to shapefile using the JSONToFeatures function.\n",
    "    ws = os.getcwd() + os.sep\n",
    "    arcpy.JSONToFeatures_conversion(name_list[counter] + \".json\", ws + name_list[counter] + \".shp\")\n",
    "    counter += 1"
   ]
  },
  {
   "cell_type": "code",
   "execution_count": null,
   "metadata": {},
   "outputs": [],
   "source": [
    "# magic command to clear all variables in the namespace\n",
    "# https://community.esri.com/t5/python-documents/arcgis-notebooks-in-arcgis-pro-3-1-faq/ta-p/1261606/jump-to/first-unread-message\n",
    "%reset -f"
   ]
  },
  {
   "cell_type": "code",
   "execution_count": null,
   "metadata": {},
   "outputs": [],
   "source": []
  }
 ],
 "metadata": {
  "kernelspec": {
   "display_name": "ArcGISPro",
   "language": "python",
   "name": "python3"
  },
  "language_info": {
   "file_extension": ".py",
   "mimetype": "text/x-python",
   "name": "python",
   "version": "3.11.10"
  }
 },
 "nbformat": 4,
 "nbformat_minor": 4
}
