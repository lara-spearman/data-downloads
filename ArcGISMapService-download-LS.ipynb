{
 "cells": [
  {
   "cell_type": "code",
   "execution_count": 41,
   "id": "0d463d85",
   "metadata": {},
   "outputs": [],
   "source": [
    "import requests\n",
    "import os\n",
    "import json\n",
    "from zipfile import ZipFile\n",
    "import pandas as pd\n",
    "import geopandas as gpd"
   ]
  },
  {
   "cell_type": "code",
   "execution_count": null,
   "id": "df5c2afb",
   "metadata": {},
   "outputs": [],
   "source": [
    "download_location = \"C:/Users/Lara/Work/DataDownloads/testData/\"\n",
    "temp_download_location = \"C:/Users/Lara/Work/DataDownloads/testDataTemp/\"\n",
    "lookup_location = \"C:/Users/Lara/Work/DataDownloads/Lookups/\"\n",
    "item_url_file = \"ItemURL_ArcGIS_6monthUpdates.csv\""
   ]
  },
  {
   "cell_type": "code",
   "execution_count": 3,
   "id": "d2a5e513",
   "metadata": {},
   "outputs": [
    {
     "data": {
      "text/html": [
       "<div>\n",
       "<style scoped>\n",
       "    .dataframe tbody tr th:only-of-type {\n",
       "        vertical-align: middle;\n",
       "    }\n",
       "\n",
       "    .dataframe tbody tr th {\n",
       "        vertical-align: top;\n",
       "    }\n",
       "\n",
       "    .dataframe thead th {\n",
       "        text-align: right;\n",
       "    }\n",
       "</style>\n",
       "<table border=\"1\" class=\"dataframe\">\n",
       "  <thead>\n",
       "    <tr style=\"text-align: right;\">\n",
       "      <th></th>\n",
       "      <th>Dataset</th>\n",
       "      <th>Owner</th>\n",
       "      <th>URL</th>\n",
       "    </tr>\n",
       "  </thead>\n",
       "  <tbody>\n",
       "    <tr>\n",
       "      <th>0</th>\n",
       "      <td>Local Nature Reserves (England)</td>\n",
       "      <td>NE</td>\n",
       "      <td>https://services.arcgis.com/JJzESW51TqeY9uat/a...</td>\n",
       "    </tr>\n",
       "    <tr>\n",
       "      <th>1</th>\n",
       "      <td>National Nature Reserves (England)</td>\n",
       "      <td>NE</td>\n",
       "      <td>https://services.arcgis.com/JJzESW51TqeY9uat/a...</td>\n",
       "    </tr>\n",
       "    <tr>\n",
       "      <th>2</th>\n",
       "      <td>Priority Habitats Inventory (England)</td>\n",
       "      <td>NE</td>\n",
       "      <td>https://services.arcgis.com/JJzESW51TqeY9uat/a...</td>\n",
       "    </tr>\n",
       "  </tbody>\n",
       "</table>\n",
       "</div>"
      ],
      "text/plain": [
       "                                 Dataset Owner  \\\n",
       "0        Local Nature Reserves (England)    NE   \n",
       "1     National Nature Reserves (England)    NE   \n",
       "2  Priority Habitats Inventory (England)    NE   \n",
       "\n",
       "                                                 URL  \n",
       "0  https://services.arcgis.com/JJzESW51TqeY9uat/a...  \n",
       "1  https://services.arcgis.com/JJzESW51TqeY9uat/a...  \n",
       "2  https://services.arcgis.com/JJzESW51TqeY9uat/a...  "
      ]
     },
     "execution_count": 3,
     "metadata": {},
     "output_type": "execute_result"
    }
   ],
   "source": [
    "# Read the csv file\n",
    "item_url_df = pd.read_csv(lookup_location + item_url_file)\n",
    "item_url_df.head(3)"
   ]
  },
  {
   "cell_type": "code",
   "execution_count": null,
   "id": "f08028b6",
   "metadata": {},
   "outputs": [
    {
     "name": "stdout",
     "output_type": "stream",
     "text": [
      "https://services.arcgis.com/JJzESW51TqeY9uat/arcgis/rest/services/Local_Nature_Reserves_England/FeatureServer/0/query?\n"
     ]
    },
    {
     "name": "stderr",
     "output_type": "stream",
     "text": [
      "C:\\Users\\Lara\\AppData\\Local\\Temp\\ipykernel_29828\\617631984.py:31: UserWarning: Column names longer than 10 characters will be truncated when saved to ESRI Shapefile.\n",
      "  gdf.to_file(f\"{download_location}{source}/{dataset}/{dataset}.shp\")\n",
      "c:\\temp\\venvs\\data-downloads\\Lib\\site-packages\\pyogrio\\raw.py:723: RuntimeWarning: Normalized/laundered field name: 'Shape__Area' to 'Shape__Are'\n",
      "  ogr_write(\n",
      "c:\\temp\\venvs\\data-downloads\\Lib\\site-packages\\pyogrio\\raw.py:723: RuntimeWarning: Normalized/laundered field name: 'Shape__Length' to 'Shape__Len'\n",
      "  ogr_write(\n"
     ]
    },
    {
     "name": "stdout",
     "output_type": "stream",
     "text": [
      "1745507839750\n",
      "https://services.arcgis.com/JJzESW51TqeY9uat/arcgis/rest/services/National_Nature_Reserves_England/FeatureServer/0/query?\n"
     ]
    },
    {
     "name": "stderr",
     "output_type": "stream",
     "text": [
      "C:\\Users\\Lara\\AppData\\Local\\Temp\\ipykernel_29828\\617631984.py:31: UserWarning: Column names longer than 10 characters will be truncated when saved to ESRI Shapefile.\n",
      "  gdf.to_file(f\"{download_location}{source}/{dataset}/{dataset}.shp\")\n",
      "c:\\temp\\venvs\\data-downloads\\Lib\\site-packages\\pyogrio\\raw.py:723: RuntimeWarning: Normalized/laundered field name: 'Shape__Area' to 'Shape__Are'\n",
      "  ogr_write(\n",
      "c:\\temp\\venvs\\data-downloads\\Lib\\site-packages\\pyogrio\\raw.py:723: RuntimeWarning: Normalized/laundered field name: 'Shape__Length' to 'Shape__Len'\n",
      "  ogr_write(\n"
     ]
    },
    {
     "name": "stdout",
     "output_type": "stream",
     "text": [
      "1745508158631\n",
      "https://services.arcgis.com/JJzESW51TqeY9uat/arcgis/rest/services/Priority_Habitats_Inventory_England/FeatureServer/0/query?\n"
     ]
    },
    {
     "name": "stderr",
     "output_type": "stream",
     "text": [
      "C:\\Users\\Lara\\AppData\\Local\\Temp\\ipykernel_29828\\617631984.py:31: UserWarning: Column names longer than 10 characters will be truncated when saved to ESRI Shapefile.\n",
      "  gdf.to_file(f\"{download_location}{source}/{dataset}/{dataset}.shp\")\n",
      "c:\\temp\\venvs\\data-downloads\\Lib\\site-packages\\pyogrio\\raw.py:723: RuntimeWarning: Normalized/laundered field name: 'Shape__Area' to 'Shape__Are'\n",
      "  ogr_write(\n",
      "c:\\temp\\venvs\\data-downloads\\Lib\\site-packages\\pyogrio\\raw.py:723: RuntimeWarning: Normalized/laundered field name: 'Shape__Length' to 'Shape__Len'\n",
      "  ogr_write(\n"
     ]
    },
    {
     "name": "stdout",
     "output_type": "stream",
     "text": [
      "1747826913383\n",
      "https://services.arcgis.com/JJzESW51TqeY9uat/arcgis/rest/services/Ramsar_England/FeatureServer/0/query?\n"
     ]
    },
    {
     "name": "stderr",
     "output_type": "stream",
     "text": [
      "C:\\Users\\Lara\\AppData\\Local\\Temp\\ipykernel_29828\\617631984.py:31: UserWarning: Column names longer than 10 characters will be truncated when saved to ESRI Shapefile.\n",
      "  gdf.to_file(f\"{download_location}{source}/{dataset}/{dataset}.shp\")\n",
      "c:\\temp\\venvs\\data-downloads\\Lib\\site-packages\\pyogrio\\raw.py:723: RuntimeWarning: Normalized/laundered field name: 'Shape__Area' to 'Shape__Are'\n",
      "  ogr_write(\n",
      "c:\\temp\\venvs\\data-downloads\\Lib\\site-packages\\pyogrio\\raw.py:723: RuntimeWarning: Normalized/laundered field name: 'Shape__Length' to 'Shape__Len'\n",
      "  ogr_write(\n",
      "c:\\temp\\venvs\\data-downloads\\Lib\\site-packages\\pyogrio\\raw.py:723: RuntimeWarning: Value 378816718.21308899 of field Shape__Are of feature 183 not successfully written. Possibly due to too larger number with respect to field width\n",
      "  ogr_write(\n",
      "c:\\temp\\venvs\\data-downloads\\Lib\\site-packages\\pyogrio\\raw.py:723: RuntimeWarning: Value 195056558.57683945 of field Shape__Are of feature 614 not successfully written. Possibly due to too larger number with respect to field width\n",
      "  ogr_write(\n",
      "c:\\temp\\venvs\\data-downloads\\Lib\\site-packages\\pyogrio\\raw.py:723: RuntimeWarning: Value 132809013.69739532 of field Shape__Are of feature 935 not successfully written. Possibly due to too larger number with respect to field width\n",
      "  ogr_write(\n",
      "c:\\temp\\venvs\\data-downloads\\Lib\\site-packages\\pyogrio\\raw.py:723: RuntimeWarning: Value 259685963.68858337 of field Shape__Are of feature 946 not successfully written. Possibly due to too larger number with respect to field width\n",
      "  ogr_write(\n",
      "c:\\temp\\venvs\\data-downloads\\Lib\\site-packages\\pyogrio\\raw.py:723: RuntimeWarning: Value 436630534.12385559 of field Shape__Are of feature 1015 not successfully written. Possibly due to too larger number with respect to field width\n",
      "  ogr_write(\n",
      "c:\\temp\\venvs\\data-downloads\\Lib\\site-packages\\pyogrio\\raw.py:723: RuntimeWarning: Value 131310759.46870422 of field Shape__Are of feature 1039 not successfully written. Possibly due to too larger number with respect to field width\n",
      "  ogr_write(\n",
      "c:\\temp\\venvs\\data-downloads\\Lib\\site-packages\\pyogrio\\raw.py:723: RuntimeWarning: Value 109149590.00475311 of field Shape__Are of feature 1280 not successfully written. Possibly due to too larger number with respect to field width\n",
      "  ogr_write(\n",
      "c:\\temp\\venvs\\data-downloads\\Lib\\site-packages\\pyogrio\\raw.py:723: RuntimeWarning: Value 620441094.5566864 of field Shape__Are of feature 1284 not successfully written. Possibly due to too larger number with respect to field width\n",
      "  ogr_write(\n"
     ]
    },
    {
     "name": "stdout",
     "output_type": "stream",
     "text": [
      "1706033321632\n",
      "https://services.arcgis.com/JJzESW51TqeY9uat/arcgis/rest/services/SSSI_England/FeatureServer/0/query?\n"
     ]
    },
    {
     "name": "stderr",
     "output_type": "stream",
     "text": [
      "C:\\Users\\Lara\\AppData\\Local\\Temp\\ipykernel_29828\\617631984.py:31: UserWarning: Column names longer than 10 characters will be truncated when saved to ESRI Shapefile.\n",
      "  gdf.to_file(f\"{download_location}{source}/{dataset}/{dataset}.shp\")\n",
      "c:\\temp\\venvs\\data-downloads\\Lib\\site-packages\\pyogrio\\raw.py:723: RuntimeWarning: Normalized/laundered field name: 'Shape__Area' to 'Shape__Are'\n",
      "  ogr_write(\n",
      "c:\\temp\\venvs\\data-downloads\\Lib\\site-packages\\pyogrio\\raw.py:723: RuntimeWarning: Normalized/laundered field name: 'Shape__Length' to 'Shape__Len'\n",
      "  ogr_write(\n",
      "c:\\temp\\venvs\\data-downloads\\Lib\\site-packages\\pyogrio\\raw.py:723: RuntimeWarning: Value 135593596.50422668 of field Shape__Are of feature 270 not successfully written. Possibly due to too larger number with respect to field width\n",
      "  ogr_write(\n",
      "c:\\temp\\venvs\\data-downloads\\Lib\\site-packages\\pyogrio\\raw.py:723: RuntimeWarning: Value 107708894.21156311 of field Shape__Are of feature 569 not successfully written. Possibly due to too larger number with respect to field width\n",
      "  ogr_write(\n",
      "c:\\temp\\venvs\\data-downloads\\Lib\\site-packages\\pyogrio\\raw.py:723: RuntimeWarning: Value 134218534.50444031 of field Shape__Are of feature 618 not successfully written. Possibly due to too larger number with respect to field width\n",
      "  ogr_write(\n"
     ]
    },
    {
     "name": "stdout",
     "output_type": "stream",
     "text": [
      "1745506944748\n",
      "https://services.arcgis.com/JJzESW51TqeY9uat/arcgis/rest/services/SSSI_Units_England/FeatureServer/0/query?\n"
     ]
    },
    {
     "name": "stderr",
     "output_type": "stream",
     "text": [
      "C:\\Users\\Lara\\AppData\\Local\\Temp\\ipykernel_29828\\617631984.py:31: UserWarning: Column names longer than 10 characters will be truncated when saved to ESRI Shapefile.\n",
      "  gdf.to_file(f\"{download_location}{source}/{dataset}/{dataset}.shp\")\n",
      "c:\\temp\\venvs\\data-downloads\\Lib\\site-packages\\pyogrio\\raw.py:723: RuntimeWarning: Field COND_DATE create as date field, though DateTime requested.\n",
      "  ogr_write(\n",
      "c:\\temp\\venvs\\data-downloads\\Lib\\site-packages\\pyogrio\\raw.py:723: RuntimeWarning: Field MODIFIED create as date field, though DateTime requested.\n",
      "  ogr_write(\n",
      "c:\\temp\\venvs\\data-downloads\\Lib\\site-packages\\pyogrio\\raw.py:723: RuntimeWarning: Field GIS_DATE create as date field, though DateTime requested.\n",
      "  ogr_write(\n",
      "c:\\temp\\venvs\\data-downloads\\Lib\\site-packages\\pyogrio\\raw.py:723: RuntimeWarning: Normalized/laundered field name: 'Shape__Area' to 'Shape__Are'\n",
      "  ogr_write(\n",
      "c:\\temp\\venvs\\data-downloads\\Lib\\site-packages\\pyogrio\\raw.py:723: RuntimeWarning: Normalized/laundered field name: 'Shape__Length' to 'Shape__Len'\n",
      "  ogr_write(\n"
     ]
    },
    {
     "name": "stdout",
     "output_type": "stream",
     "text": [
      "1737393598232\n",
      "https://services.arcgis.com/JJzESW51TqeY9uat/arcgis/rest/services/Special_Areas_of_Conservation_England/FeatureServer/0/query?\n"
     ]
    },
    {
     "name": "stderr",
     "output_type": "stream",
     "text": [
      "C:\\Users\\Lara\\AppData\\Local\\Temp\\ipykernel_29828\\617631984.py:31: UserWarning: Column names longer than 10 characters will be truncated when saved to ESRI Shapefile.\n",
      "  gdf.to_file(f\"{download_location}{source}/{dataset}/{dataset}.shp\")\n",
      "c:\\temp\\venvs\\data-downloads\\Lib\\site-packages\\pyogrio\\raw.py:723: RuntimeWarning: Normalized/laundered field name: 'Shape__Area' to 'Shape__Are'\n",
      "  ogr_write(\n",
      "c:\\temp\\venvs\\data-downloads\\Lib\\site-packages\\pyogrio\\raw.py:723: RuntimeWarning: Normalized/laundered field name: 'Shape__Length' to 'Shape__Len'\n",
      "  ogr_write(\n",
      "c:\\temp\\venvs\\data-downloads\\Lib\\site-packages\\pyogrio\\raw.py:723: RuntimeWarning: Value 366571513.4078064 of field Shape__Are of feature 50 not successfully written. Possibly due to too larger number with respect to field width\n",
      "  ogr_write(\n"
     ]
    },
    {
     "name": "stdout",
     "output_type": "stream",
     "text": [
      "1713288645774\n",
      "https://services.arcgis.com/JJzESW51TqeY9uat/arcgis/rest/services/Special_Protection_Areas_England/FeatureServer/0/query?\n"
     ]
    },
    {
     "name": "stderr",
     "output_type": "stream",
     "text": [
      "C:\\Users\\Lara\\AppData\\Local\\Temp\\ipykernel_29828\\617631984.py:31: UserWarning: Column names longer than 10 characters will be truncated when saved to ESRI Shapefile.\n",
      "  gdf.to_file(f\"{download_location}{source}/{dataset}/{dataset}.shp\")\n",
      "c:\\temp\\venvs\\data-downloads\\Lib\\site-packages\\pyogrio\\raw.py:723: RuntimeWarning: Normalized/laundered field name: 'Shape__Area' to 'Shape__Are'\n",
      "  ogr_write(\n",
      "c:\\temp\\venvs\\data-downloads\\Lib\\site-packages\\pyogrio\\raw.py:723: RuntimeWarning: Normalized/laundered field name: 'Shape__Length' to 'Shape__Len'\n",
      "  ogr_write(\n",
      "c:\\temp\\venvs\\data-downloads\\Lib\\site-packages\\pyogrio\\raw.py:723: RuntimeWarning: Value 884986604.17466736 of field Shape__Are of feature 0 not successfully written. Possibly due to too larger number with respect to field width\n",
      "  ogr_write(\n",
      "c:\\temp\\venvs\\data-downloads\\Lib\\site-packages\\pyogrio\\raw.py:723: RuntimeWarning: Value 2527577308.4522095 of field Shape__Are of feature 1 not successfully written. Possibly due to too larger number with respect to field width\n",
      "  ogr_write(\n",
      "c:\\temp\\venvs\\data-downloads\\Lib\\site-packages\\pyogrio\\raw.py:723: RuntimeWarning: Value 668993786.46115112 of field Shape__Are of feature 2 not successfully written. Possibly due to too larger number with respect to field width\n",
      "  ogr_write(\n",
      "c:\\temp\\venvs\\data-downloads\\Lib\\site-packages\\pyogrio\\raw.py:723: RuntimeWarning: Value 3924517642.8002472 of field Shape__Are of feature 3 not successfully written. Possibly due to too larger number with respect to field width\n",
      "  ogr_write(\n",
      "c:\\temp\\venvs\\data-downloads\\Lib\\site-packages\\pyogrio\\raw.py:723: RuntimeWarning: Value 122106165.0059967 of field Shape__Are of feature 4 not successfully written. Possibly due to too larger number with respect to field width\n",
      "  ogr_write(\n",
      "c:\\temp\\venvs\\data-downloads\\Lib\\site-packages\\pyogrio\\raw.py:723: RuntimeWarning: Value 133326847.88571635 of field Shape__Are of feature 5 not successfully written. Possibly due to too larger number with respect to field width\n",
      "  ogr_write(\n",
      "c:\\temp\\venvs\\data-downloads\\Lib\\site-packages\\pyogrio\\raw.py:723: RuntimeWarning: Value 1357493531.5734177 of field Shape__Are of feature 6 not successfully written. Possibly due to too larger number with respect to field width\n",
      "  ogr_write(\n",
      "c:\\temp\\venvs\\data-downloads\\Lib\\site-packages\\pyogrio\\raw.py:723: RuntimeWarning: Value 258986151.35057497 of field Shape__Are of feature 7 not successfully written. Possibly due to too larger number with respect to field width\n",
      "  ogr_write(\n",
      "c:\\temp\\venvs\\data-downloads\\Lib\\site-packages\\pyogrio\\raw.py:723: RuntimeWarning: Value 889805480.15464783 of field Shape__Are of feature 8 not successfully written. Possibly due to too larger number with respect to field width\n",
      "  ogr_write(\n",
      "c:\\temp\\venvs\\data-downloads\\Lib\\site-packages\\pyogrio\\raw.py:723: RuntimeWarning: Value 3535778557.0316467 of field Shape__Are of feature 9 not successfully written. Possibly due to too larger number with respect to field width\n",
      "  ogr_write(\n",
      "c:\\temp\\venvs\\data-downloads\\Lib\\site-packages\\pyogrio\\raw.py:723: RuntimeWarning: Value 424175339.15830994 of field Shape__Are of feature 10 not successfully written. Possibly due to too larger number with respect to field width\n",
      "  ogr_write(\n",
      "c:\\temp\\venvs\\data-downloads\\Lib\\site-packages\\pyogrio\\raw.py:723: RuntimeWarning: Value 160078304.93922424 of field Shape__Are of feature 187 not successfully written. Possibly due to too larger number with respect to field width\n",
      "  ogr_write(\n",
      "c:\\temp\\venvs\\data-downloads\\Lib\\site-packages\\pyogrio\\raw.py:723: RuntimeWarning: Value 375241110.18334961 of field Shape__Are of feature 193 not successfully written. Possibly due to too larger number with respect to field width\n",
      "  ogr_write(\n"
     ]
    },
    {
     "name": "stdout",
     "output_type": "stream",
     "text": [
      "1740658040601\n",
      "https://services.arcgis.com/JJzESW51TqeY9uat/arcgis/rest/services/SSSI_Impact_Risk_Zones_England/FeatureServer/0/query?\n"
     ]
    },
    {
     "name": "stderr",
     "output_type": "stream",
     "text": [
      "C:\\Users\\Lara\\AppData\\Local\\Temp\\ipykernel_29828\\617631984.py:31: UserWarning: Column names longer than 10 characters will be truncated when saved to ESRI Shapefile.\n",
      "  gdf.to_file(f\"{download_location}{source}/{dataset}/{dataset}.shp\")\n",
      "c:\\temp\\venvs\\data-downloads\\Lib\\site-packages\\pyogrio\\raw.py:723: RuntimeWarning: Normalized/laundered field name: 'Shape__Area' to 'Shape__Are'\n",
      "  ogr_write(\n",
      "c:\\temp\\venvs\\data-downloads\\Lib\\site-packages\\pyogrio\\raw.py:723: RuntimeWarning: Normalized/laundered field name: 'Shape__Length' to 'Shape__Len'\n",
      "  ogr_write(\n",
      "c:\\temp\\venvs\\data-downloads\\Lib\\site-packages\\pyogrio\\raw.py:723: RuntimeWarning: Value 293542691.32470703 of field Shape__Are of feature 23 not successfully written. Possibly due to too larger number with respect to field width\n",
      "  ogr_write(\n",
      "c:\\temp\\venvs\\data-downloads\\Lib\\site-packages\\pyogrio\\raw.py:723: RuntimeWarning: Value 590471378.08947754 of field Shape__Are of feature 38 not successfully written. Possibly due to too larger number with respect to field width\n",
      "  ogr_write(\n",
      "c:\\temp\\venvs\\data-downloads\\Lib\\site-packages\\pyogrio\\raw.py:723: RuntimeWarning: Value 343908088.80078125 of field Shape__Are of feature 46 not successfully written. Possibly due to too larger number with respect to field width\n",
      "  ogr_write(\n",
      "c:\\temp\\venvs\\data-downloads\\Lib\\site-packages\\pyogrio\\raw.py:723: RuntimeWarning: Value 121550423.55380249 of field Shape__Are of feature 48 not successfully written. Possibly due to too larger number with respect to field width\n",
      "  ogr_write(\n",
      "c:\\temp\\venvs\\data-downloads\\Lib\\site-packages\\pyogrio\\raw.py:723: RuntimeWarning: Value 162500405.58374023 of field Shape__Are of feature 68 not successfully written. Possibly due to too larger number with respect to field width\n",
      "  ogr_write(\n",
      "c:\\temp\\venvs\\data-downloads\\Lib\\site-packages\\pyogrio\\raw.py:723: RuntimeWarning: Value 188808781.97277832 of field Shape__Are of feature 94 not successfully written. Possibly due to too larger number with respect to field width\n",
      "  ogr_write(\n",
      "c:\\temp\\venvs\\data-downloads\\Lib\\site-packages\\pyogrio\\raw.py:723: RuntimeWarning: Value 286534298.67358398 of field Shape__Are of feature 109 not successfully written. Possibly due to too larger number with respect to field width\n",
      "  ogr_write(\n",
      "c:\\temp\\venvs\\data-downloads\\Lib\\site-packages\\pyogrio\\raw.py:723: RuntimeWarning: Value 286372756.10864258 of field Shape__Are of feature 127 not successfully written. Possibly due to too larger number with respect to field width\n",
      "  ogr_write(\n",
      "c:\\temp\\venvs\\data-downloads\\Lib\\site-packages\\pyogrio\\raw.py:723: RuntimeWarning: Value 135358281.10217285 of field Shape__Are of feature 129 not successfully written. Possibly due to too larger number with respect to field width\n",
      "  ogr_write(\n",
      "c:\\temp\\venvs\\data-downloads\\Lib\\site-packages\\pyogrio\\raw.py:723: RuntimeWarning: Value 186423429.02807617 of field Shape__Are of feature 138 not successfully written. Possibly due to too larger number with respect to field width\n",
      "  ogr_write(\n",
      "c:\\temp\\venvs\\data-downloads\\Lib\\site-packages\\pyogrio\\raw.py:723: RuntimeWarning: Value 223059172.00415039 of field Shape__Are of feature 140 not successfully written. Possibly due to too larger number with respect to field width\n",
      "  ogr_write(\n",
      "c:\\temp\\venvs\\data-downloads\\Lib\\site-packages\\pyogrio\\raw.py:723: RuntimeWarning: Value 224564105.89416504 of field Shape__Are of feature 167 not successfully written. Possibly due to too larger number with respect to field width\n",
      "  ogr_write(\n",
      "c:\\temp\\venvs\\data-downloads\\Lib\\site-packages\\pyogrio\\raw.py:723: RuntimeWarning: Value 244054010.07763672 of field Shape__Are of feature 168 not successfully written. Possibly due to too larger number with respect to field width\n",
      "  ogr_write(\n",
      "c:\\temp\\venvs\\data-downloads\\Lib\\site-packages\\pyogrio\\raw.py:723: RuntimeWarning: Value 128255208.68817139 of field Shape__Are of feature 206 not successfully written. Possibly due to too larger number with respect to field width\n",
      "  ogr_write(\n",
      "c:\\temp\\venvs\\data-downloads\\Lib\\site-packages\\pyogrio\\raw.py:723: RuntimeWarning: Value 240096170.60205078 of field Shape__Are of feature 223 not successfully written. Possibly due to too larger number with respect to field width\n",
      "  ogr_write(\n",
      "c:\\temp\\venvs\\data-downloads\\Lib\\site-packages\\pyogrio\\raw.py:723: RuntimeWarning: Value 302319690.18920898 of field Shape__Are of feature 239 not successfully written. Possibly due to too larger number with respect to field width\n",
      "  ogr_write(\n",
      "c:\\temp\\venvs\\data-downloads\\Lib\\site-packages\\pyogrio\\raw.py:723: RuntimeWarning: Value 152226493.95013428 of field Shape__Are of feature 247 not successfully written. Possibly due to too larger number with respect to field width\n",
      "  ogr_write(\n",
      "c:\\temp\\venvs\\data-downloads\\Lib\\site-packages\\pyogrio\\raw.py:723: RuntimeWarning: Value 226115249.30932617 of field Shape__Are of feature 252 not successfully written. Possibly due to too larger number with respect to field width\n",
      "  ogr_write(\n",
      "c:\\temp\\venvs\\data-downloads\\Lib\\site-packages\\pyogrio\\raw.py:723: RuntimeWarning: Value 226792410.60473633 of field Shape__Are of feature 257 not successfully written. Possibly due to too larger number with respect to field width\n",
      "  ogr_write(\n",
      "c:\\temp\\venvs\\data-downloads\\Lib\\site-packages\\pyogrio\\raw.py:723: RuntimeWarning: Value 173803420.88916016 of field Shape__Are of feature 270 not successfully written. Possibly due to too larger number with respect to field width\n",
      "  ogr_write(\n",
      "c:\\temp\\venvs\\data-downloads\\Lib\\site-packages\\pyogrio\\raw.py:723: RuntimeWarning: Value 117541739.62963867 of field Shape__Are of feature 313 not successfully written. Possibly due to too larger number with respect to field width\n",
      "  ogr_write(\n",
      "c:\\temp\\venvs\\data-downloads\\Lib\\site-packages\\pyogrio\\raw.py:723: RuntimeWarning: Value 129679128.39160156 of field Shape__Are of feature 333 not successfully written. Possibly due to too larger number with respect to field width\n",
      "  ogr_write(\n",
      "c:\\temp\\venvs\\data-downloads\\Lib\\site-packages\\pyogrio\\raw.py:723: RuntimeWarning: Value 244462677.96452332 of field Shape__Are of feature 337 not successfully written. Possibly due to too larger number with respect to field width\n",
      "  ogr_write(\n",
      "c:\\temp\\venvs\\data-downloads\\Lib\\site-packages\\pyogrio\\raw.py:723: RuntimeWarning: Value 127854181.50219727 of field Shape__Are of feature 368 not successfully written. Possibly due to too larger number with respect to field width\n",
      "  ogr_write(\n",
      "c:\\temp\\venvs\\data-downloads\\Lib\\site-packages\\pyogrio\\raw.py:723: RuntimeWarning: Value 296359775.40161133 of field Shape__Are of feature 389 not successfully written. Possibly due to too larger number with respect to field width\n",
      "  ogr_write(\n",
      "c:\\temp\\venvs\\data-downloads\\Lib\\site-packages\\pyogrio\\raw.py:723: RuntimeWarning: Value 367632345.81811523 of field Shape__Are of feature 403 not successfully written. Possibly due to too larger number with respect to field width\n",
      "  ogr_write(\n",
      "c:\\temp\\venvs\\data-downloads\\Lib\\site-packages\\pyogrio\\raw.py:723: RuntimeWarning: Value 169813533.60449219 of field Shape__Are of feature 408 not successfully written. Possibly due to too larger number with respect to field width\n",
      "  ogr_write(\n",
      "c:\\temp\\venvs\\data-downloads\\Lib\\site-packages\\pyogrio\\raw.py:723: RuntimeWarning: Value 174399884.50378418 of field Shape__Are of feature 411 not successfully written. Possibly due to too larger number with respect to field width\n",
      "  ogr_write(\n",
      "c:\\temp\\venvs\\data-downloads\\Lib\\site-packages\\pyogrio\\raw.py:723: RuntimeWarning: Value 212849455.5647583 of field Shape__Are of feature 413 not successfully written. Possibly due to too larger number with respect to field width\n",
      "  ogr_write(\n",
      "c:\\temp\\venvs\\data-downloads\\Lib\\site-packages\\pyogrio\\raw.py:723: RuntimeWarning: Value 106436089.40930176 of field Shape__Are of feature 415 not successfully written. Possibly due to too larger number with respect to field width\n",
      "  ogr_write(\n",
      "c:\\temp\\venvs\\data-downloads\\Lib\\site-packages\\pyogrio\\raw.py:723: RuntimeWarning: Value 143618265.12490845 of field Shape__Are of feature 418 not successfully written. Possibly due to too larger number with respect to field width\n",
      "  ogr_write(\n",
      "c:\\temp\\venvs\\data-downloads\\Lib\\site-packages\\pyogrio\\raw.py:723: RuntimeWarning: Value 282860193.59643555 of field Shape__Are of feature 423 not successfully written. Possibly due to too larger number with respect to field width\n",
      "  ogr_write(\n",
      "c:\\temp\\venvs\\data-downloads\\Lib\\site-packages\\pyogrio\\raw.py:723: RuntimeWarning: Value 615665547.3425293 of field Shape__Are of feature 442 not successfully written. Possibly due to too larger number with respect to field width\n",
      "  ogr_write(\n",
      "c:\\temp\\venvs\\data-downloads\\Lib\\site-packages\\pyogrio\\raw.py:723: RuntimeWarning: Value 232209547.6960144 of field Shape__Are of feature 1583 not successfully written. Possibly due to too larger number with respect to field width\n",
      "  ogr_write(\n",
      "c:\\temp\\venvs\\data-downloads\\Lib\\site-packages\\pyogrio\\raw.py:723: RuntimeWarning: Value 259639576.09387207 of field Shape__Are of feature 1753 not successfully written. Possibly due to too larger number with respect to field width\n",
      "  ogr_write(\n",
      "c:\\temp\\venvs\\data-downloads\\Lib\\site-packages\\pyogrio\\raw.py:723: RuntimeWarning: Value 143327075.59985352 of field Shape__Are of feature 1896 not successfully written. Possibly due to too larger number with respect to field width\n",
      "  ogr_write(\n",
      "c:\\temp\\venvs\\data-downloads\\Lib\\site-packages\\pyogrio\\raw.py:723: RuntimeWarning: Value 101444951.72888184 of field Shape__Are of feature 2276 not successfully written. Possibly due to too larger number with respect to field width\n",
      "  ogr_write(\n",
      "c:\\temp\\venvs\\data-downloads\\Lib\\site-packages\\pyogrio\\raw.py:723: RuntimeWarning: Value 170230426.31335449 of field Shape__Are of feature 2457 not successfully written. Possibly due to too larger number with respect to field width\n",
      "  ogr_write(\n",
      "c:\\temp\\venvs\\data-downloads\\Lib\\site-packages\\pyogrio\\raw.py:723: RuntimeWarning: Value 262313594.00842285 of field Shape__Are of feature 2773 not successfully written. Possibly due to too larger number with respect to field width\n",
      "  ogr_write(\n"
     ]
    },
    {
     "name": "stdout",
     "output_type": "stream",
     "text": [
      "1748448431124\n",
      "https://services-eu1.arcgis.com/WIfgdJeDbrZU1cnA/arcgis/rest/services/Ancient%20Tree%20Inventory%20(ATI)/FeatureServer/0/query?\n"
     ]
    },
    {
     "name": "stderr",
     "output_type": "stream",
     "text": [
      "C:\\Users\\Lara\\AppData\\Local\\Temp\\ipykernel_29828\\617631984.py:31: UserWarning: Column names longer than 10 characters will be truncated when saved to ESRI Shapefile.\n",
      "  gdf.to_file(f\"{download_location}{source}/{dataset}/{dataset}.shp\")\n",
      "c:\\temp\\venvs\\data-downloads\\Lib\\site-packages\\pyogrio\\raw.py:723: RuntimeWarning: Field SurveyDate create as date field, though DateTime requested.\n",
      "  ogr_write(\n",
      "c:\\temp\\venvs\\data-downloads\\Lib\\site-packages\\pyogrio\\raw.py:723: RuntimeWarning: Normalized/laundered field name: 'VerifiedDate' to 'VerifiedDa'\n",
      "  ogr_write(\n",
      "c:\\temp\\venvs\\data-downloads\\Lib\\site-packages\\pyogrio\\raw.py:723: RuntimeWarning: Field VerifiedDa create as date field, though DateTime requested.\n",
      "  ogr_write(\n",
      "c:\\temp\\venvs\\data-downloads\\Lib\\site-packages\\pyogrio\\raw.py:723: RuntimeWarning: Normalized/laundered field name: 'MeasuredGirth' to 'MeasuredGi'\n",
      "  ogr_write(\n",
      "c:\\temp\\venvs\\data-downloads\\Lib\\site-packages\\pyogrio\\raw.py:723: RuntimeWarning: Normalized/laundered field name: 'MeasuredHeight' to 'MeasuredHe'\n",
      "  ogr_write(\n",
      "c:\\temp\\venvs\\data-downloads\\Lib\\site-packages\\pyogrio\\raw.py:723: RuntimeWarning: Normalized/laundered field name: 'EstimatedGirth' to 'EstimatedG'\n",
      "  ogr_write(\n",
      "c:\\temp\\venvs\\data-downloads\\Lib\\site-packages\\pyogrio\\raw.py:723: RuntimeWarning: Normalized/laundered field name: 'GridReference' to 'GridRefere'\n",
      "  ogr_write(\n",
      "c:\\temp\\venvs\\data-downloads\\Lib\\site-packages\\pyogrio\\raw.py:723: RuntimeWarning: Normalized/laundered field name: 'RecorderOrganisationName' to 'RecorderOr'\n",
      "  ogr_write(\n",
      "c:\\temp\\venvs\\data-downloads\\Lib\\site-packages\\pyogrio\\raw.py:723: RuntimeWarning: Normalized/laundered field name: 'StandingStatus' to 'StandingSt'\n",
      "  ogr_write(\n",
      "c:\\temp\\venvs\\data-downloads\\Lib\\site-packages\\pyogrio\\raw.py:723: RuntimeWarning: Normalized/laundered field name: 'LivingStatus' to 'LivingStat'\n",
      "  ogr_write(\n",
      "c:\\temp\\venvs\\data-downloads\\Lib\\site-packages\\pyogrio\\raw.py:723: RuntimeWarning: Normalized/laundered field name: 'PublicAccessibilityStatus' to 'PublicAcce'\n",
      "  ogr_write(\n",
      "c:\\temp\\venvs\\data-downloads\\Lib\\site-packages\\pyogrio\\raw.py:723: RuntimeWarning: Normalized/laundered field name: 'VeteranStatus' to 'VeteranSta'\n",
      "  ogr_write(\n",
      "c:\\temp\\venvs\\data-downloads\\Lib\\site-packages\\pyogrio\\raw.py:723: RuntimeWarning: Normalized/laundered field name: 'SpecialStatus' to 'SpecialSta'\n",
      "  ogr_write(\n"
     ]
    },
    {
     "name": "stdout",
     "output_type": "stream",
     "text": [
      "1754413366332\n"
     ]
    }
   ],
   "source": [
    "#Loop through each dataset name in lookup\n",
    "for url in item_url_df.URL:\n",
    "    print(url)\n",
    "    # Get url that contains details for dataset\n",
    "    url_details = url.replace(\"/query?\", \"?f=json\")\n",
    "    \n",
    "    # Get dataset name and source from lookup\n",
    "    dataset = item_url_df[item_url_df.URL==url]['Dataset'].item() \n",
    "    source = item_url_df[item_url_df.URL==url]['Owner'].item()\n",
    "\n",
    "    ## DOwnload dataset\n",
    "    params = {\n",
    "    'where': \"1=1\",  # Select all data\n",
    "    'outFields': \"*\",  # All fields\n",
    "    'f': 'json',  # Return format\n",
    "    # 'geometryType': 'esriGeometryPoint',  # Can change based on geometry type\n",
    "    # 'outSR': '27700',  # Coordinate system. Unsure if needed, from documentation: If outSR is not specified, the geometry is returned in the spatial reference of the map.\n",
    "    }\n",
    "    response_dataset = requests.get(url, params=params)\n",
    "\n",
    "    # CHeck request worked\n",
    "    if response_dataset.status_code == 200:\n",
    "        # Download geojson \n",
    "        with open(f\"{temp_download_location}{dataset}.geojson\", 'wb') as file:\n",
    "            file.write(response_dataset.content)\n",
    "        #Create folder if not already there\n",
    "        if not os.path.exists(f\"{download_location}{source}/{dataset}\"):\n",
    "            os.makedirs(f\"{download_location}{source}/{dataset}\")\n",
    "            \n",
    "        # Need to read geojson back in then write out the shapefile, as arcgis does not read geojson\n",
    "        gdf = gpd.read_file(f\"{temp_download_location}{dataset}.geojson\")\n",
    "        gdf.to_file(f\"{download_location}{source}/{dataset}/{dataset}.shp\")\n",
    "    else:\n",
    "        print(f\"Request failed for {dataset}\")\n",
    "\n",
    "    # Download dataset details\n",
    "    response_details = requests.get(url_details)\n",
    "    if response_details.status_code == 200:\n",
    "        details = response_details.json()\n",
    "        print(details['editingInfo']['dataLastEditDate'])\n",
    "    else:\n",
    "        print(f\"Request failed for details of {dataset}\")\n",
    "\n",
    "    "
   ]
  }
 ],
 "metadata": {
  "kernelspec": {
   "display_name": "data-downloads",
   "language": "python",
   "name": "data-downloads"
  },
  "language_info": {
   "codemirror_mode": {
    "name": "ipython",
    "version": 3
   },
   "file_extension": ".py",
   "mimetype": "text/x-python",
   "name": "python",
   "nbconvert_exporter": "python",
   "pygments_lexer": "ipython3",
   "version": "3.13.7"
  }
 },
 "nbformat": 4,
 "nbformat_minor": 5
}
