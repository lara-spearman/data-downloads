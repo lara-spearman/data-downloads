{
 "cells": [
  {
   "cell_type": "code",
   "execution_count": 14,
   "id": "0d463d85",
   "metadata": {},
   "outputs": [],
   "source": [
    "import requests\n",
    "import os\n",
    "import json\n",
    "from zipfile import ZipFile\n",
    "import pandas as pd\n",
    "import geopandas as gpd\n",
    "from datetime import datetime, timezone, date"
   ]
  },
  {
   "cell_type": "code",
   "execution_count": 2,
   "id": "21816663",
   "metadata": {},
   "outputs": [],
   "source": [
    "location = \"home\""
   ]
  },
  {
   "cell_type": "code",
   "execution_count": 3,
   "id": "df5c2afb",
   "metadata": {},
   "outputs": [],
   "source": [
    "if location == \"home\":\n",
    "    folder_location = \"C:/Users/Lara/Work/DataDownloads/\"\n",
    "    \n",
    "if location == \"work\":\n",
    "    folder_location = \"O:/Data_team/GIS_data_downloads/\"\n",
    "\n",
    "download_location = folder_location + \"testData/\"\n",
    "temp_download_location = folder_location + \"testDataTemp/\"\n",
    "lookup_location = folder_location + \"Lookups/\"\n",
    "item_url_file = \"ItemURL_ArcGIS_6monthUpdates.csv\"\n",
    "boundary_file = folder_location + \"CountyBoundary.shp\"\n"
   ]
  },
  {
   "cell_type": "code",
   "execution_count": 4,
   "id": "64eb7116",
   "metadata": {},
   "outputs": [],
   "source": [
    "boundary_gdf = gpd.read_file(boundary_file)"
   ]
  },
  {
   "cell_type": "code",
   "execution_count": 5,
   "id": "d2a5e513",
   "metadata": {},
   "outputs": [
    {
     "data": {
      "text/html": [
       "<div>\n",
       "<style scoped>\n",
       "    .dataframe tbody tr th:only-of-type {\n",
       "        vertical-align: middle;\n",
       "    }\n",
       "\n",
       "    .dataframe tbody tr th {\n",
       "        vertical-align: top;\n",
       "    }\n",
       "\n",
       "    .dataframe thead th {\n",
       "        text-align: right;\n",
       "    }\n",
       "</style>\n",
       "<table border=\"1\" class=\"dataframe\">\n",
       "  <thead>\n",
       "    <tr style=\"text-align: right;\">\n",
       "      <th></th>\n",
       "      <th>Dataset</th>\n",
       "      <th>Owner</th>\n",
       "      <th>URL</th>\n",
       "    </tr>\n",
       "  </thead>\n",
       "  <tbody>\n",
       "    <tr>\n",
       "      <th>0</th>\n",
       "      <td>Local Nature Reserves (England)</td>\n",
       "      <td>NE</td>\n",
       "      <td>https://services.arcgis.com/JJzESW51TqeY9uat/a...</td>\n",
       "    </tr>\n",
       "    <tr>\n",
       "      <th>1</th>\n",
       "      <td>National Nature Reserves (England)</td>\n",
       "      <td>NE</td>\n",
       "      <td>https://services.arcgis.com/JJzESW51TqeY9uat/a...</td>\n",
       "    </tr>\n",
       "    <tr>\n",
       "      <th>2</th>\n",
       "      <td>Priority Habitats Inventory (England)</td>\n",
       "      <td>NE</td>\n",
       "      <td>https://services.arcgis.com/JJzESW51TqeY9uat/a...</td>\n",
       "    </tr>\n",
       "  </tbody>\n",
       "</table>\n",
       "</div>"
      ],
      "text/plain": [
       "                                 Dataset Owner  \\\n",
       "0        Local Nature Reserves (England)    NE   \n",
       "1     National Nature Reserves (England)    NE   \n",
       "2  Priority Habitats Inventory (England)    NE   \n",
       "\n",
       "                                                 URL  \n",
       "0  https://services.arcgis.com/JJzESW51TqeY9uat/a...  \n",
       "1  https://services.arcgis.com/JJzESW51TqeY9uat/a...  \n",
       "2  https://services.arcgis.com/JJzESW51TqeY9uat/a...  "
      ]
     },
     "execution_count": 5,
     "metadata": {},
     "output_type": "execute_result"
    }
   ],
   "source": [
    "# Read the csv file \n",
    "item_url_df = pd.read_csv(lookup_location + item_url_file)\n",
    "item_url_df.head(3)"
   ]
  },
  {
   "cell_type": "code",
   "execution_count": null,
   "id": "86bc4c00",
   "metadata": {},
   "outputs": [
    {
     "name": "stdout",
     "output_type": "stream",
     "text": [
      "https://services.arcgis.com/JJzESW51TqeY9uat/arcgis/rest/services/SSSI_Impact_Risk_Zones_England/FeatureServer/0/query?\n",
      "Total features retrieved: 103922\n",
      "Date last edited: 25/09/2025\n",
      "2025-10-01\n",
      "https://services-eu1.arcgis.com/WIfgdJeDbrZU1cnA/arcgis/rest/services/Ancient%20Tree%20Inventory%20(ATI)/FeatureServer/0/query?\n",
      "Total features retrieved: 97914\n",
      "Date last edited: 23/09/2025\n",
      "2025-10-01\n"
     ]
    }
   ],
   "source": [
    "#Loop through each dataset name in lookup\n",
    "for url in item_url_df.tail(2).URL:\n",
    "    print(url)\n",
    "    # Get url that contains details for dataset\n",
    "    url_details = url.replace(\"/query?\", \"?f=json\")\n",
    "    \n",
    "    # Get dataset name and source from lookup\n",
    "    dataset = item_url_df[item_url_df.URL==url]['Dataset'].item() \n",
    "    source = item_url_df[item_url_df.URL==url]['Owner'].item()\n",
    "\n",
    "    # Parameters\n",
    "    batch_size = 2000  # Adjust to the max allowed (e.g., 4000 if needed)\n",
    "\n",
    "    params = {\n",
    "        \"where\": \"1=1\",\n",
    "        \"outFields\": \"*\",\n",
    "        \"f\": \"geojson\",\n",
    "        \"resultOffset\": 0,\n",
    "        \"resultRecordCount\": batch_size,  # You can go up to the server max, in this case 4000\n",
    "    }\n",
    "\n",
    "    features = []\n",
    "    \n",
    "    # Keeps running until server stops returning features\n",
    "    while True:\n",
    "        #print(f\"Requesting records starting at offset {params['resultOffset']}\")\n",
    "        try:\n",
    "            response = requests.get(url, params=params)\n",
    "            # Check if response is successful\n",
    "            if response.status_code != 200:\n",
    "                print(f\"Request failed with status code: {response.status_code}\")\n",
    "                break\n",
    "            \n",
    "            data = response.json()\n",
    "\n",
    "            if \"features\" not in data or not data[\"features\"]:\n",
    "                break  # No more data\n",
    "\n",
    "            features.extend(data[\"features\"])\n",
    "            params[\"resultOffset\"] += batch_size\n",
    "        \n",
    "        except requests.exceptions.RequestException as e:\n",
    "            print(\"Error during request:\", e)\n",
    "            break\n",
    "\n",
    "    print(f\"Total features retrieved: {len(features)}\")\n",
    "    #print(features)\n",
    "    # Save to a GeoJSON file\n",
    "    with open(f\"{temp_download_location}{dataset}.geojson\", \"w\") as f:\n",
    "        json.dump({\n",
    "            \"type\": \"FeatureCollection\",\n",
    "            \"features\": features\n",
    "        }, f)\n",
    "   \n",
    "    # Create folder if not already there for permanent data storage\n",
    "    if not os.path.exists(f\"{download_location}Original/{source}/{dataset}\"):\n",
    "        os.makedirs(f\"{download_location}Original/{source}/{dataset}\")\n",
    "    if not os.path.exists(f\"{download_location}Wiltshire/{source}/{dataset}\"):\n",
    "        os.makedirs(f\"{download_location}Wiltshire/{source}/{dataset}\")\n",
    "\n",
    "    # Need to read geojson back in then write out the gpkg, as arcgis does not read geojson\n",
    "    gdf = gpd.read_file(f\"{temp_download_location}{dataset}.geojson\")\n",
    "\n",
    "    # Convert to BNG as geojson defaults to EPSG: 4326\n",
    "    gdf_27700 = gdf.to_crs(epsg=27700)\n",
    "\n",
    "    # Write out original file\n",
    "    gdf.to_file(f\"{download_location}Original/{source}/{dataset}/{dataset}.gpkg\")\n",
    "\n",
    "    # Clip to Wilts and write out\n",
    "    gdf_wilts = gpd.clip(gdf_27700, boundary_gdf)\n",
    "    gdf_wilts.to_file(f\"{download_location}Wiltshire/{source}/{dataset}/{dataset}.gpkg\")\n",
    "\n",
    "    # Download dataset details\n",
    "    response_details = requests.get(url_details)\n",
    "    if response_details.status_code == 200:\n",
    "        details = response_details.json()\n",
    "        date_last_edit = details['editingInfo']['dataLastEditDate']\n",
    "        dt = datetime.fromtimestamp(date_last_edit / 1000, tz=timezone.utc)\n",
    "        metadata = {\"Date last edited\":dt.strftime(\"%d/%m/%Y\"),\n",
    "                    \"Date downloaded\":date.today().strftime('%m/%d/%Y')} \n",
    "        with open(f\"{download_location}Original/{source}/{dataset}_metadata.json\", mode=\"w\") as file:\n",
    "            json.dump(metadata,file)\n",
    "    else:\n",
    "        print(f\"Request failed for details of {dataset}\")\n",
    "\n"
   ]
  }
 ],
 "metadata": {
  "kernelspec": {
   "display_name": "data-downloads",
   "language": "python",
   "name": "data-downloads"
  },
  "language_info": {
   "codemirror_mode": {
    "name": "ipython",
    "version": 3
   },
   "file_extension": ".py",
   "mimetype": "text/x-python",
   "name": "python",
   "nbconvert_exporter": "python",
   "pygments_lexer": "ipython3",
   "version": "3.13.7"
  }
 },
 "nbformat": 4,
 "nbformat_minor": 5
}
