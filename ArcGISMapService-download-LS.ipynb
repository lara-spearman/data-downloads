{
 "cells": [
  {
   "cell_type": "code",
   "execution_count": 41,
   "id": "0d463d85",
   "metadata": {},
   "outputs": [],
   "source": [
    "import requests\n",
    "import os\n",
    "import json\n",
    "from zipfile import ZipFile\n",
    "import pandas as pd\n",
    "import geopandas as gpd"
   ]
  },
  {
   "cell_type": "code",
   "execution_count": 121,
   "id": "df5c2afb",
   "metadata": {},
   "outputs": [],
   "source": [
    "download_location = \"C:/Users/Lara/Work/DataDownloads/testData/\"\n",
    "temp_download_location = \"C:/Users/Lara/Work/DataDownloads/testDataTemp/\"\n",
    "lookup_location = \"C:/Users/Lara/Work/DataDownloads/Lookups/\"\n",
    "item_url_file = \"ItemURL_ArcGIS_6monthUpdates.csv\"\n",
    "boundary_file = \"C:/Users/Lara/Work/DataDownloads/CountyBoundary.shp\""
   ]
  },
  {
   "cell_type": "code",
   "execution_count": 122,
   "id": "64eb7116",
   "metadata": {},
   "outputs": [],
   "source": [
    "boundary_gdf = gpd.read_file(boundary_file)"
   ]
  },
  {
   "cell_type": "code",
   "execution_count": 3,
   "id": "d2a5e513",
   "metadata": {},
   "outputs": [
    {
     "data": {
      "text/html": [
       "<div>\n",
       "<style scoped>\n",
       "    .dataframe tbody tr th:only-of-type {\n",
       "        vertical-align: middle;\n",
       "    }\n",
       "\n",
       "    .dataframe tbody tr th {\n",
       "        vertical-align: top;\n",
       "    }\n",
       "\n",
       "    .dataframe thead th {\n",
       "        text-align: right;\n",
       "    }\n",
       "</style>\n",
       "<table border=\"1\" class=\"dataframe\">\n",
       "  <thead>\n",
       "    <tr style=\"text-align: right;\">\n",
       "      <th></th>\n",
       "      <th>Dataset</th>\n",
       "      <th>Owner</th>\n",
       "      <th>URL</th>\n",
       "    </tr>\n",
       "  </thead>\n",
       "  <tbody>\n",
       "    <tr>\n",
       "      <th>0</th>\n",
       "      <td>Local Nature Reserves (England)</td>\n",
       "      <td>NE</td>\n",
       "      <td>https://services.arcgis.com/JJzESW51TqeY9uat/a...</td>\n",
       "    </tr>\n",
       "    <tr>\n",
       "      <th>1</th>\n",
       "      <td>National Nature Reserves (England)</td>\n",
       "      <td>NE</td>\n",
       "      <td>https://services.arcgis.com/JJzESW51TqeY9uat/a...</td>\n",
       "    </tr>\n",
       "    <tr>\n",
       "      <th>2</th>\n",
       "      <td>Priority Habitats Inventory (England)</td>\n",
       "      <td>NE</td>\n",
       "      <td>https://services.arcgis.com/JJzESW51TqeY9uat/a...</td>\n",
       "    </tr>\n",
       "  </tbody>\n",
       "</table>\n",
       "</div>"
      ],
      "text/plain": [
       "                                 Dataset Owner  \\\n",
       "0        Local Nature Reserves (England)    NE   \n",
       "1     National Nature Reserves (England)    NE   \n",
       "2  Priority Habitats Inventory (England)    NE   \n",
       "\n",
       "                                                 URL  \n",
       "0  https://services.arcgis.com/JJzESW51TqeY9uat/a...  \n",
       "1  https://services.arcgis.com/JJzESW51TqeY9uat/a...  \n",
       "2  https://services.arcgis.com/JJzESW51TqeY9uat/a...  "
      ]
     },
     "execution_count": 3,
     "metadata": {},
     "output_type": "execute_result"
    }
   ],
   "source": [
    "# Read the csv file\n",
    "item_url_df = pd.read_csv(lookup_location + item_url_file)\n",
    "item_url_df.head(3)"
   ]
  },
  {
   "cell_type": "code",
   "execution_count": 123,
   "id": "f08028b6",
   "metadata": {},
   "outputs": [
    {
     "name": "stdout",
     "output_type": "stream",
     "text": [
      "https://services.arcgis.com/JJzESW51TqeY9uat/arcgis/rest/services/Local_Nature_Reserves_England/FeatureServer/0/query?\n"
     ]
    },
    {
     "ename": "KeyboardInterrupt",
     "evalue": "",
     "output_type": "error",
     "traceback": [
      "\u001b[31m---------------------------------------------------------------------------\u001b[39m",
      "\u001b[31mKeyboardInterrupt\u001b[39m                         Traceback (most recent call last)",
      "\u001b[36mCell\u001b[39m\u001b[36m \u001b[39m\u001b[32mIn[123]\u001b[39m\u001b[32m, line 37\u001b[39m\n\u001b[32m     33\u001b[39m     gdf = gpd.read_file(\u001b[33mf\u001b[39m\u001b[33m\"\u001b[39m\u001b[38;5;132;01m{\u001b[39;00mtemp_download_location\u001b[38;5;132;01m}\u001b[39;00m\u001b[38;5;132;01m{\u001b[39;00mdataset\u001b[38;5;132;01m}\u001b[39;00m\u001b[33m.geojson\u001b[39m\u001b[33m\"\u001b[39m)\n\u001b[32m     35\u001b[39m     gdf.to_file(\u001b[33mf\u001b[39m\u001b[33m\"\u001b[39m\u001b[38;5;132;01m{\u001b[39;00mdownload_location\u001b[38;5;132;01m}\u001b[39;00m\u001b[33mOriginal/\u001b[39m\u001b[38;5;132;01m{\u001b[39;00msource\u001b[38;5;132;01m}\u001b[39;00m\u001b[33m/\u001b[39m\u001b[38;5;132;01m{\u001b[39;00mdataset\u001b[38;5;132;01m}\u001b[39;00m\u001b[33m/\u001b[39m\u001b[38;5;132;01m{\u001b[39;00mdataset\u001b[38;5;132;01m}\u001b[39;00m\u001b[33m.gpkg\u001b[39m\u001b[33m\"\u001b[39m)\n\u001b[32m---> \u001b[39m\u001b[32m37\u001b[39m     gdf_wilts = \u001b[43mgpd\u001b[49m\u001b[43m.\u001b[49m\u001b[43mclip\u001b[49m\u001b[43m(\u001b[49m\u001b[43mgdf\u001b[49m\u001b[43m,\u001b[49m\u001b[43m \u001b[49m\u001b[43mboundary_gdf\u001b[49m\u001b[43m)\u001b[49m\n\u001b[32m     38\u001b[39m     gdf_wilts.to_file(\u001b[33mf\u001b[39m\u001b[33m\"\u001b[39m\u001b[38;5;132;01m{\u001b[39;00mdownload_location\u001b[38;5;132;01m}\u001b[39;00m\u001b[33mWiltshire/\u001b[39m\u001b[38;5;132;01m{\u001b[39;00msource\u001b[38;5;132;01m}\u001b[39;00m\u001b[33m/\u001b[39m\u001b[38;5;132;01m{\u001b[39;00mdataset\u001b[38;5;132;01m}\u001b[39;00m\u001b[33m/\u001b[39m\u001b[38;5;132;01m{\u001b[39;00mdataset\u001b[38;5;132;01m}\u001b[39;00m\u001b[33m.gpkg\u001b[39m\u001b[33m\"\u001b[39m)\n\u001b[32m     39\u001b[39m \u001b[38;5;28;01melse\u001b[39;00m:\n",
      "\u001b[36mFile \u001b[39m\u001b[32mc:\\temp\\venvs\\data-downloads\\Lib\\site-packages\\geopandas\\tools\\clip.py:205\u001b[39m, in \u001b[36mclip\u001b[39m\u001b[34m(gdf, mask, keep_geom_type, sort)\u001b[39m\n\u001b[32m    199\u001b[39m \u001b[38;5;28;01melse\u001b[39;00m:\n\u001b[32m    200\u001b[39m     \u001b[38;5;66;03m# Avoid empty tuple returned by .bounds when geometry is empty. A tuple of\u001b[39;00m\n\u001b[32m    201\u001b[39m     \u001b[38;5;66;03m# all nan values is consistent with the behavior of\u001b[39;00m\n\u001b[32m    202\u001b[39m     \u001b[38;5;66;03m# {GeoSeries, GeoDataFrame}.total_bounds for empty geometries.\u001b[39;00m\n\u001b[32m    203\u001b[39m     \u001b[38;5;66;03m# TODO(shapely) can simpely use mask.bounds once relying on Shapely 2.0\u001b[39;00m\n\u001b[32m    204\u001b[39m     box_mask = mask.bounds \u001b[38;5;28;01mif\u001b[39;00m \u001b[38;5;129;01mnot\u001b[39;00m mask.is_empty \u001b[38;5;28;01melse\u001b[39;00m (np.nan,) * \u001b[32m4\u001b[39m\n\u001b[32m--> \u001b[39m\u001b[32m205\u001b[39m box_gdf = \u001b[43mgdf\u001b[49m\u001b[43m.\u001b[49m\u001b[43mtotal_bounds\u001b[49m\n\u001b[32m    206\u001b[39m \u001b[38;5;28;01mif\u001b[39;00m \u001b[38;5;129;01mnot\u001b[39;00m (\n\u001b[32m    207\u001b[39m     ((box_mask[\u001b[32m0\u001b[39m] <= box_gdf[\u001b[32m2\u001b[39m]) \u001b[38;5;129;01mand\u001b[39;00m (box_gdf[\u001b[32m0\u001b[39m] <= box_mask[\u001b[32m2\u001b[39m]))\n\u001b[32m    208\u001b[39m     \u001b[38;5;129;01mand\u001b[39;00m ((box_mask[\u001b[32m1\u001b[39m] <= box_gdf[\u001b[32m3\u001b[39m]) \u001b[38;5;129;01mand\u001b[39;00m (box_gdf[\u001b[32m1\u001b[39m] <= box_mask[\u001b[32m3\u001b[39m]))\n\u001b[32m    209\u001b[39m ):\n\u001b[32m    210\u001b[39m     \u001b[38;5;28;01mreturn\u001b[39;00m gdf.iloc[:\u001b[32m0\u001b[39m]\n",
      "\u001b[36mFile \u001b[39m\u001b[32mc:\\temp\\venvs\\data-downloads\\Lib\\site-packages\\geopandas\\base.py:5283\u001b[39m, in \u001b[36mGeoPandasBase.total_bounds\u001b[39m\u001b[34m(self)\u001b[39m\n\u001b[32m   5266\u001b[39m \u001b[38;5;129m@property\u001b[39m\n\u001b[32m   5267\u001b[39m \u001b[38;5;28;01mdef\u001b[39;00m\u001b[38;5;250m \u001b[39m\u001b[34mtotal_bounds\u001b[39m(\u001b[38;5;28mself\u001b[39m):\n\u001b[32m   5268\u001b[39m \u001b[38;5;250m    \u001b[39m\u001b[33;03m\"\"\"Return a tuple containing ``minx``, ``miny``, ``maxx``, ``maxy``\u001b[39;00m\n\u001b[32m   5269\u001b[39m \u001b[33;03m    values for the bounds of the series as a whole.\u001b[39;00m\n\u001b[32m   5270\u001b[39m \n\u001b[32m   (...)\u001b[39m\u001b[32m   5281\u001b[39m \u001b[33;03m    array([ 0., -1.,  3.,  2.])\u001b[39;00m\n\u001b[32m   5282\u001b[39m \u001b[33;03m    \"\"\"\u001b[39;00m\n\u001b[32m-> \u001b[39m\u001b[32m5283\u001b[39m     \u001b[38;5;28;01mreturn\u001b[39;00m \u001b[43mGeometryArray\u001b[49m\u001b[43m(\u001b[49m\u001b[38;5;28;43mself\u001b[39;49m\u001b[43m.\u001b[49m\u001b[43mgeometry\u001b[49m\u001b[43m.\u001b[49m\u001b[43mvalues\u001b[49m\u001b[43m)\u001b[49m\u001b[43m.\u001b[49m\u001b[43mtotal_bounds\u001b[49m\n",
      "\u001b[36mFile \u001b[39m\u001b[32mc:\\temp\\venvs\\data-downloads\\Lib\\site-packages\\geopandas\\array.py:1283\u001b[39m, in \u001b[36mGeometryArray.total_bounds\u001b[39m\u001b[34m(self)\u001b[39m\n\u001b[32m   1279\u001b[39m \u001b[38;5;28;01mif\u001b[39;00m \u001b[38;5;28mlen\u001b[39m(\u001b[38;5;28mself\u001b[39m) == \u001b[32m0\u001b[39m:\n\u001b[32m   1280\u001b[39m     \u001b[38;5;66;03m# numpy 'min' cannot handle empty arrays\u001b[39;00m\n\u001b[32m   1281\u001b[39m     \u001b[38;5;66;03m# TODO with numpy >= 1.15, the 'initial' argument can be used\u001b[39;00m\n\u001b[32m   1282\u001b[39m     \u001b[38;5;28;01mreturn\u001b[39;00m np.array([np.nan, np.nan, np.nan, np.nan])\n\u001b[32m-> \u001b[39m\u001b[32m1283\u001b[39m b = \u001b[38;5;28;43mself\u001b[39;49m\u001b[43m.\u001b[49m\u001b[43mbounds\u001b[49m\n\u001b[32m   1284\u001b[39m \u001b[38;5;28;01mwith\u001b[39;00m warnings.catch_warnings():\n\u001b[32m   1285\u001b[39m     \u001b[38;5;66;03m# if all rows are empty geometry / none, nan is expected\u001b[39;00m\n\u001b[32m   1286\u001b[39m     warnings.filterwarnings(\n\u001b[32m   1287\u001b[39m         \u001b[33m\"\u001b[39m\u001b[33mignore\u001b[39m\u001b[33m\"\u001b[39m, \u001b[33mr\u001b[39m\u001b[33m\"\u001b[39m\u001b[33mAll-NaN slice encountered\u001b[39m\u001b[33m\"\u001b[39m, \u001b[38;5;167;01mRuntimeWarning\u001b[39;00m\n\u001b[32m   1288\u001b[39m     )\n",
      "\u001b[36mFile \u001b[39m\u001b[32mc:\\temp\\venvs\\data-downloads\\Lib\\site-packages\\geopandas\\array.py:1275\u001b[39m, in \u001b[36mGeometryArray.bounds\u001b[39m\u001b[34m(self)\u001b[39m\n\u001b[32m   1273\u001b[39m \u001b[38;5;129m@property\u001b[39m\n\u001b[32m   1274\u001b[39m \u001b[38;5;28;01mdef\u001b[39;00m\u001b[38;5;250m \u001b[39m\u001b[34mbounds\u001b[39m(\u001b[38;5;28mself\u001b[39m):\n\u001b[32m-> \u001b[39m\u001b[32m1275\u001b[39m     \u001b[38;5;28;01mreturn\u001b[39;00m \u001b[43mshapely\u001b[49m\u001b[43m.\u001b[49m\u001b[43mbounds\u001b[49m\u001b[43m(\u001b[49m\u001b[38;5;28;43mself\u001b[39;49m\u001b[43m.\u001b[49m\u001b[43m_data\u001b[49m\u001b[43m)\u001b[49m\n",
      "\u001b[36mFile \u001b[39m\u001b[32mc:\\temp\\venvs\\data-downloads\\Lib\\site-packages\\shapely\\decorators.py:88\u001b[39m, in \u001b[36mmultithreading_enabled.<locals>.wrapped\u001b[39m\u001b[34m(*args, **kwargs)\u001b[39m\n\u001b[32m     86\u001b[39m     \u001b[38;5;28;01mfor\u001b[39;00m arr \u001b[38;5;129;01min\u001b[39;00m array_args:\n\u001b[32m     87\u001b[39m         arr.flags.writeable = \u001b[38;5;28;01mFalse\u001b[39;00m\n\u001b[32m---> \u001b[39m\u001b[32m88\u001b[39m     \u001b[38;5;28;01mreturn\u001b[39;00m \u001b[43mfunc\u001b[49m\u001b[43m(\u001b[49m\u001b[43m*\u001b[49m\u001b[43margs\u001b[49m\u001b[43m,\u001b[49m\u001b[43m \u001b[49m\u001b[43m*\u001b[49m\u001b[43m*\u001b[49m\u001b[43mkwargs\u001b[49m\u001b[43m)\u001b[49m\n\u001b[32m     89\u001b[39m \u001b[38;5;28;01mfinally\u001b[39;00m:\n\u001b[32m     90\u001b[39m     \u001b[38;5;28;01mfor\u001b[39;00m arr, old_flag \u001b[38;5;129;01min\u001b[39;00m \u001b[38;5;28mzip\u001b[39m(array_args, old_flags):\n",
      "\u001b[36mFile \u001b[39m\u001b[32mc:\\temp\\venvs\\data-downloads\\Lib\\site-packages\\shapely\\measurement.py:111\u001b[39m, in \u001b[36mbounds\u001b[39m\u001b[34m(geometry, **kwargs)\u001b[39m\n\u001b[32m     84\u001b[39m \u001b[38;5;129m@multithreading_enabled\u001b[39m\n\u001b[32m     85\u001b[39m \u001b[38;5;28;01mdef\u001b[39;00m\u001b[38;5;250m \u001b[39m\u001b[34mbounds\u001b[39m(geometry, **kwargs):\n\u001b[32m     86\u001b[39m \u001b[38;5;250m    \u001b[39m\u001b[33;03m\"\"\"Compute the bounds (extent) of a geometry.\u001b[39;00m\n\u001b[32m     87\u001b[39m \n\u001b[32m     88\u001b[39m \u001b[33;03m    For each geometry these 4 numbers are returned: min x, min y, max x, max y.\u001b[39;00m\n\u001b[32m   (...)\u001b[39m\u001b[32m    109\u001b[39m \n\u001b[32m    110\u001b[39m \u001b[33;03m    \"\"\"\u001b[39;00m\n\u001b[32m--> \u001b[39m\u001b[32m111\u001b[39m     \u001b[38;5;28;01mreturn\u001b[39;00m \u001b[43mlib\u001b[49m\u001b[43m.\u001b[49m\u001b[43mbounds\u001b[49m\u001b[43m(\u001b[49m\u001b[43mgeometry\u001b[49m\u001b[43m,\u001b[49m\u001b[43m \u001b[49m\u001b[43m*\u001b[49m\u001b[43m*\u001b[49m\u001b[43mkwargs\u001b[49m\u001b[43m)\u001b[49m\n",
      "\u001b[31mKeyboardInterrupt\u001b[39m: "
     ]
    }
   ],
   "source": [
    "#Loop through each dataset name in lookup\n",
    "for url in item_url_df.URL:\n",
    "    print(url)\n",
    "    # Get url that contains details for dataset\n",
    "    url_details = url.replace(\"/query?\", \"?f=json\")\n",
    "    \n",
    "    # Get dataset name and source from lookup\n",
    "    dataset = item_url_df[item_url_df.URL==url]['Dataset'].item() \n",
    "    source = item_url_df[item_url_df.URL==url]['Owner'].item()\n",
    "\n",
    "    ## DOwnload dataset\n",
    "    params = {\n",
    "    'where': \"1=1\",  # Select all data\n",
    "    'outFields': \"*\",  # All fields\n",
    "    'f': 'json',  # Return format\n",
    "    # 'geometryType': 'esriGeometryPoint',  # Can change based on geometry type\n",
    "    'outSR': '27700',  # Coordinate system. Unsure if needed, from documentation: If outSR is not specified, the geometry is returned in the spatial reference of the map.\n",
    "    }\n",
    "    response_dataset = requests.get(url, params=params)\n",
    "\n",
    "    # CHeck request worked\n",
    "    if response_dataset.status_code == 200:\n",
    "        # Download geojson \n",
    "        with open(f\"{temp_download_location}{dataset}.geojson\", 'wb') as file:\n",
    "            file.write(response_dataset.content)\n",
    "        #Create folder if not already there\n",
    "        if not os.path.exists(f\"{download_location}Original/{source}/{dataset}\"):\n",
    "            os.makedirs(f\"{download_location}Original/{source}/{dataset}\")\n",
    "        if not os.path.exists(f\"{download_location}Wiltshire/{source}/{dataset}\"):\n",
    "            os.makedirs(f\"{download_location}Wiltshire/{source}/{dataset}\")\n",
    "            \n",
    "        # Need to read geojson back in then write out the shapefile, as arcgis does not read geojson\n",
    "        gdf = gpd.read_file(f\"{temp_download_location}{dataset}.geojson\")\n",
    "\n",
    "        gdf.to_file(f\"{download_location}Original/{source}/{dataset}/{dataset}.gpkg\")\n",
    "\n",
    "        gdf_wilts = gpd.clip(gdf, boundary_gdf)\n",
    "        gdf_wilts.to_file(f\"{download_location}Wiltshire/{source}/{dataset}/{dataset}.gpkg\")\n",
    "    else:\n",
    "        print(f\"Request failed for {dataset}\")\n",
    "\n",
    "    # Download dataset details\n",
    "    response_details = requests.get(url_details)\n",
    "    if response_details.status_code == 200:\n",
    "        details = response_details.json()\n",
    "        print(details['editingInfo']['dataLastEditDate'])\n",
    "    else:\n",
    "        print(f\"Request failed for details of {dataset}\")\n",
    "\n",
    "    "
   ]
  }
 ],
 "metadata": {
  "kernelspec": {
   "display_name": "data-downloads",
   "language": "python",
   "name": "data-downloads"
  },
  "language_info": {
   "codemirror_mode": {
    "name": "ipython",
    "version": 3
   },
   "file_extension": ".py",
   "mimetype": "text/x-python",
   "name": "python",
   "nbconvert_exporter": "python",
   "pygments_lexer": "ipython3",
   "version": "3.13.7"
  }
 },
 "nbformat": 4,
 "nbformat_minor": 5
}
