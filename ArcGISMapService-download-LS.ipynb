{
 "cells": [
  {
   "cell_type": "code",
   "execution_count": 33,
   "id": "0d463d85",
   "metadata": {},
   "outputs": [],
   "source": [
    "import requests\n",
    "import os\n",
    "import json\n",
    "from zipfile import ZipFile\n",
    "import pandas as pd\n",
    "import geopandas as gpd\n",
    "from datetime import datetime, timezone, date"
   ]
  },
  {
   "cell_type": "code",
   "execution_count": 34,
   "id": "21816663",
   "metadata": {},
   "outputs": [],
   "source": [
    "location = \"work\""
   ]
  },
  {
   "cell_type": "code",
   "execution_count": 35,
   "id": "df5c2afb",
   "metadata": {},
   "outputs": [],
   "source": [
    "if location == \"home\":\n",
    "    folder_location = \"C:/Users/Lara/Work/DataDownloads/\"\n",
    "    \n",
    "if location == \"work\":\n",
    "    folder_location = \"O:/Data_team/GIS_data_downloads/\"\n",
    "\n",
    "download_location = folder_location + \"testData/\"\n",
    "temp_download_location = folder_location + \"testDataTemp/\"\n",
    "lookup_location = folder_location + \"Lookups/\"\n",
    "item_url_file = \"ItemURL_ArcGIS_6monthUpdates.csv\"\n",
    "boundary_file = folder_location + \"CountyBoundary.shp\"\n"
   ]
  },
  {
   "cell_type": "code",
   "execution_count": 36,
   "id": "64eb7116",
   "metadata": {},
   "outputs": [],
   "source": [
    "boundary_gdf = gpd.read_file(boundary_file)"
   ]
  },
  {
   "cell_type": "code",
   "execution_count": 37,
   "id": "d2a5e513",
   "metadata": {},
   "outputs": [
    {
     "data": {
      "text/html": [
       "<div>\n",
       "<style scoped>\n",
       "    .dataframe tbody tr th:only-of-type {\n",
       "        vertical-align: middle;\n",
       "    }\n",
       "\n",
       "    .dataframe tbody tr th {\n",
       "        vertical-align: top;\n",
       "    }\n",
       "\n",
       "    .dataframe thead th {\n",
       "        text-align: right;\n",
       "    }\n",
       "</style>\n",
       "<table border=\"1\" class=\"dataframe\">\n",
       "  <thead>\n",
       "    <tr style=\"text-align: right;\">\n",
       "      <th></th>\n",
       "      <th>Dataset</th>\n",
       "      <th>Owner</th>\n",
       "      <th>URL</th>\n",
       "    </tr>\n",
       "  </thead>\n",
       "  <tbody>\n",
       "    <tr>\n",
       "      <th>0</th>\n",
       "      <td>Local Nature Reserves (England)</td>\n",
       "      <td>NE</td>\n",
       "      <td>https://services.arcgis.com/JJzESW51TqeY9uat/a...</td>\n",
       "    </tr>\n",
       "  </tbody>\n",
       "</table>\n",
       "</div>"
      ],
      "text/plain": [
       "                           Dataset Owner  \\\n",
       "0  Local Nature Reserves (England)    NE   \n",
       "\n",
       "                                                 URL  \n",
       "0  https://services.arcgis.com/JJzESW51TqeY9uat/a...  "
      ]
     },
     "execution_count": 37,
     "metadata": {},
     "output_type": "execute_result"
    }
   ],
   "source": [
    "# Read the csv file \n",
    "item_url_df = pd.read_csv(lookup_location + item_url_file)\n",
    "item_url_df.head(1)"
   ]
  },
  {
   "cell_type": "code",
   "execution_count": 44,
   "id": "86bc4c00",
   "metadata": {},
   "outputs": [
    {
     "name": "stdout",
     "output_type": "stream",
     "text": [
      "https://services.arcgis.com/JJzESW51TqeY9uat/arcgis/rest/services/Priority_Habitats_Inventory_England/FeatureServer/0/query?\n"
     ]
    }
   ],
   "source": [
    "#Loop through each dataset name in lookup\n",
    "for url in [\"https://services.arcgis.com/JJzESW51TqeY9uat/arcgis/rest/services/Priority_Habitats_Inventory_England/FeatureServer/0/query?\"]:#item_url_df.URL:\n",
    "    print(url)\n",
    "    # Get url that contains details for dataset\n",
    "    url_details = url.replace(\"/query?\", \"?f=json\")\n",
    "    \n",
    "    # Get dataset name and source from lookup\n",
    "    dataset = item_url_df[item_url_df.URL==url]['Dataset'].item() \n",
    "    source = item_url_df[item_url_df.URL==url]['Owner'].item()\n",
    "\n",
    "    # Parameters\n",
    "    batch_size = 2000  # Adjust to the max allowed (e.g., 4000 if needed)\n",
    "\n",
    "    params = {\n",
    "        \"where\": \"1=1\",\n",
    "        \"outFields\": \"*\",\n",
    "        \"f\": \"geojson\",\n",
    "        \"resultOffset\": 0,\n",
    "        #\"resultRecordCount\": batch_size,  # You can go up to the server max, in this case 4000\n",
    "    }\n",
    "\n",
    "    features = []\n",
    "    \n",
    "    # Keeps running until server stops returning features (for files that are too large so require pagination)\n",
    "    #print(f\"Requesting records starting at offset {params['resultOffset']}\")\n",
    "    try:\n",
    "        response = requests.get(url, params=params, stream = True)\n",
    "        # Check if response is successful\n",
    "        if response.status_code != 200:\n",
    "            print(f\"Request failed with status code: {response.status_code}\")\n",
    "            break\n",
    "        \n",
    "        # Download in chunks in case its large file\n",
    "        with open(f\"{temp_download_location}{dataset}.geojson\", mode=\"wb\") as file:\n",
    "            for chunk in response.iter_content(chunk_size=batch_size):\n",
    "                file.write(chunk)\n",
    "    \n",
    "    except requests.exceptions.RequestException as e:\n",
    "        print(\"Error during request:\", e)\n",
    "        break\n",
    "   \n",
    "    # Create folder if not already there for permanent data storage\n",
    "    if not os.path.exists(f\"{download_location}Original/{source}/{dataset}\"):\n",
    "        os.makedirs(f\"{download_location}Original/{source}/{dataset}\")\n",
    "    if not os.path.exists(f\"{download_location}Wiltshire/{source}/{dataset}\"):\n",
    "        os.makedirs(f\"{download_location}Wiltshire/{source}/{dataset}\")\n",
    "\n",
    "    # Need to read geojson back in then write out the gpkg, as arcgis does not read geojson\n",
    "    gdf = gpd.read_file(f\"{temp_download_location}{dataset}.geojson\")\n",
    "\n",
    "    # Convert to BNG as geojson defaults to EPSG: 4326\n",
    "    gdf_27700 = gdf.to_crs(epsg=27700)\n",
    "\n",
    "    if os.path.exists(f\"{download_location}Original/{source}/{dataset}/{dataset}.gpkg\"):\n",
    "                    os.remove(f\"{download_location}Original/{source}/{dataset}/{dataset}.gpkg\")\n",
    "    # Write out original file\n",
    "    gdf.to_file(f\"{download_location}Original/{source}/{dataset}/{dataset}.gpkg\")\n",
    "\n",
    "    # Clip to Wilts and write out\n",
    "    gdf_wilts = gpd.clip(gdf_27700, boundary_gdf)\n",
    "    gdf_wilts.to_file(f\"{download_location}Wiltshire/{source}/{dataset}/{dataset}.gpkg\")\n",
    "\n",
    "    # Download dataset details\n",
    "    response_details = requests.get(url_details)\n",
    "    if response_details.status_code == 200:\n",
    "        details = response_details.json()\n",
    "        date_last_edit = details['editingInfo']['dataLastEditDate']\n",
    "        dt = datetime.fromtimestamp(date_last_edit / 1000, tz=timezone.utc)\n",
    "        metadata = {\"Date last edited\":dt.strftime(\"%d/%m/%Y\"),\n",
    "                    \"Date downloaded\":date.today().strftime('%m/%d/%Y')} \n",
    "        with open(f\"{download_location}Original/{source}/{dataset}/metadata.json\", mode=\"w\") as file:\n",
    "            json.dump(metadata,file)\n",
    "    else:\n",
    "        print(f\"Request failed for details of {dataset}\")\n",
    "\n"
   ]
  },
  {
   "cell_type": "code",
   "execution_count": 30,
   "id": "e6571232",
   "metadata": {},
   "outputs": [],
   "source": [
    "url = \"https://services.arcgis.com/JJzESW51TqeY9uat/arcgis/rest/services/Special_Protection_Areas_England/FeatureServer/0/query?\"\n",
    "params =  {\n",
    "        \"where\": \"1=1\",\n",
    "        \"outFields\": \"*\",\n",
    "        \"f\": \"geojson\",\n",
    "        \"resultOffset\": 0,  # You can go up to the server max, in this case 4000\n",
    "    }\n",
    "response = requests.get(url,  stream = True, params = params)\n",
    "with open(\"test.geojson\", mode=\"wb\") as file:\n",
    "    for chunk in response.iter_content(chunk_size=10 * 1024):\n",
    "        file.write(chunk)"
   ]
  },
  {
   "cell_type": "code",
   "execution_count": 26,
   "id": "975a08bf",
   "metadata": {},
   "outputs": [],
   "source": [
    "params =  {\n",
    "        \"where\": \"1=1\",\n",
    "        \"outFields\": \"*\",\n",
    "        \"f\": \"geojson\",\n",
    "          # You can go up to the server max, in this case 4000\n",
    "    }\n",
    "url = \"https://environment.data.gov.uk/spatialdata/sites-of-special-scientific-interest-england/ogc/features/v1/collections\"\n",
    "response = requests.get(url)"
   ]
  },
  {
   "cell_type": "code",
   "execution_count": 27,
   "id": "5c17cbce",
   "metadata": {},
   "outputs": [],
   "source": [
    "info = response.content"
   ]
  },
  {
   "cell_type": "code",
   "execution_count": 28,
   "id": "794a8839",
   "metadata": {},
   "outputs": [],
   "source": [
    "json_data = json.loads(info.decode('utf-8'))"
   ]
  },
  {
   "cell_type": "code",
   "execution_count": 32,
   "id": "32e00e24",
   "metadata": {},
   "outputs": [
    {
     "data": {
      "text/plain": [
       "[{'id': 'Sites_of_Special_Scientific_Interest_England',\n",
       "  'title': 'Sites_of_Special_Scientific_Interest_England',\n",
       "  'description': None,\n",
       "  'extent': {'spatial': {'crs': 'http://www.opengis.net/def/crs/OGC/1.3/CRS84',\n",
       "    'bbox': [[-7.053840553627759,\n",
       "      49.86262197062069,\n",
       "      2.0581712684399815,\n",
       "      55.810663626083226]]}},\n",
       "  'links': [{'href': 'https://environment.data.gov.uk/geoservices/datasets/ba8dc201-66ef-4983-9d46-7378af21027e/ogc/features/v1/collections/Sites_of_Special_Scientific_Interest_England/items?f=text%2Fhtml',\n",
       "    'rel': 'items',\n",
       "    'type': 'text/html',\n",
       "    'title': 'Sites_of_Special_Scientific_Interest_England items as text/html'},\n",
       "   {'href': 'https://environment.data.gov.uk/geoservices/datasets/ba8dc201-66ef-4983-9d46-7378af21027e/ogc/features/v1/collections/Sites_of_Special_Scientific_Interest_England/items?f=application%2Fvnd.google-earth.kml%2Bxml',\n",
       "    'rel': 'items',\n",
       "    'type': 'application/vnd.google-earth.kml+xml',\n",
       "    'title': 'Sites_of_Special_Scientific_Interest_England items as application/vnd.google-earth.kml+xml'},\n",
       "   {'href': 'https://environment.data.gov.uk/geoservices/datasets/ba8dc201-66ef-4983-9d46-7378af21027e/ogc/features/v1/collections/Sites_of_Special_Scientific_Interest_England/items?f=application%2Fgml%2Bxml%3Bversion%3D3.2',\n",
       "    'rel': 'items',\n",
       "    'type': 'application/gml+xml;version=3.2',\n",
       "    'title': 'Sites_of_Special_Scientific_Interest_England items as application/gml+xml;version=3.2'},\n",
       "   {'href': 'https://environment.data.gov.uk/geoservices/datasets/ba8dc201-66ef-4983-9d46-7378af21027e/ogc/features/v1/collections/Sites_of_Special_Scientific_Interest_England/items?f=text%2Fcsv',\n",
       "    'rel': 'items',\n",
       "    'type': 'text/csv',\n",
       "    'title': 'Sites_of_Special_Scientific_Interest_England items as text/csv'},\n",
       "   {'href': 'https://environment.data.gov.uk/geoservices/datasets/ba8dc201-66ef-4983-9d46-7378af21027e/ogc/features/v1/collections/Sites_of_Special_Scientific_Interest_England/items?f=application%2Fjson',\n",
       "    'rel': 'items',\n",
       "    'type': 'application/json',\n",
       "    'title': 'Sites_of_Special_Scientific_Interest_England items as application/json'},\n",
       "   {'href': 'https://environment.data.gov.uk/geoservices/datasets/ba8dc201-66ef-4983-9d46-7378af21027e/ogc/features/v1/collections/Sites_of_Special_Scientific_Interest_England/items?f=application%2Fvnd.ogc.fg%2Bjson',\n",
       "    'rel': 'items',\n",
       "    'type': 'application/vnd.ogc.fg+json',\n",
       "    'title': 'Sites_of_Special_Scientific_Interest_England items as application/vnd.ogc.fg+json'},\n",
       "   {'href': 'https://environment.data.gov.uk/geoservices/datasets/ba8dc201-66ef-4983-9d46-7378af21027e/ogc/features/v1/collections/Sites_of_Special_Scientific_Interest_England/items?f=application%2Fgeo%2Bjson',\n",
       "    'rel': 'items',\n",
       "    'type': 'application/geo+json',\n",
       "    'title': 'Sites_of_Special_Scientific_Interest_England items as application/geo+json'},\n",
       "   {'href': 'https://environment.data.gov.uk/geoservices/datasets/ba8dc201-66ef-4983-9d46-7378af21027e/ogc/features/v1/collections/Sites_of_Special_Scientific_Interest_England?f=application%2Fx-yaml',\n",
       "    'rel': 'alternate',\n",
       "    'type': 'application/x-yaml',\n",
       "    'title': 'This document as application/x-yaml'},\n",
       "   {'href': 'https://environment.data.gov.uk/geoservices/datasets/ba8dc201-66ef-4983-9d46-7378af21027e/ogc/features/v1/collections/Sites_of_Special_Scientific_Interest_England?f=application%2Fjson',\n",
       "    'rel': 'self',\n",
       "    'type': 'application/json',\n",
       "    'title': 'This document'},\n",
       "   {'href': 'https://environment.data.gov.uk/geoservices/datasets/ba8dc201-66ef-4983-9d46-7378af21027e/ogc/features/v1/collections/Sites_of_Special_Scientific_Interest_England?f=text%2Fhtml',\n",
       "    'rel': 'alternate',\n",
       "    'type': 'text/html',\n",
       "    'title': 'This document as text/html'},\n",
       "   {'href': 'https://environment.data.gov.uk/geoservices/datasets/ba8dc201-66ef-4983-9d46-7378af21027e/ogc/features/v1/collections/Sites_of_Special_Scientific_Interest_England/queryables?f=application%2Fschema%2Bjson',\n",
       "    'rel': 'http://www.opengis.net/def/rel/ogc/1.0/queryables',\n",
       "    'type': 'application/schema+json',\n",
       "    'title': 'Queryable attributes as application/schema+json'},\n",
       "   {'href': 'https://environment.data.gov.uk/geoservices/datasets/ba8dc201-66ef-4983-9d46-7378af21027e/ogc/features/v1/collections/Sites_of_Special_Scientific_Interest_England/queryables?f=application%2Fx-yaml',\n",
       "    'rel': 'http://www.opengis.net/def/rel/ogc/1.0/queryables',\n",
       "    'type': 'application/x-yaml',\n",
       "    'title': 'Queryable attributes as application/x-yaml'},\n",
       "   {'href': 'https://environment.data.gov.uk/geoservices/datasets/ba8dc201-66ef-4983-9d46-7378af21027e/ogc/features/v1/collections/Sites_of_Special_Scientific_Interest_England/queryables?f=application%2Fjson',\n",
       "    'rel': 'http://www.opengis.net/def/rel/ogc/1.0/queryables',\n",
       "    'type': 'application/json',\n",
       "    'title': 'Queryable attributes as application/json'},\n",
       "   {'href': 'https://environment.data.gov.uk/geoservices/datasets/ba8dc201-66ef-4983-9d46-7378af21027e/ogc/features/v1/collections/Sites_of_Special_Scientific_Interest_England/queryables?f=text%2Fhtml',\n",
       "    'rel': 'http://www.opengis.net/def/rel/ogc/1.0/queryables',\n",
       "    'type': 'text/html',\n",
       "    'title': 'Queryable attributes as text/html'}],\n",
       "  'crs': ['#/crs'],\n",
       "  'storageCrs': 'http://www.opengis.net/def/crs/EPSG/0/27700'}]"
      ]
     },
     "execution_count": 32,
     "metadata": {},
     "output_type": "execute_result"
    }
   ],
   "source": [
    "json_data['collections']"
   ]
  },
  {
   "cell_type": "code",
   "execution_count": 17,
   "id": "5488d8d4",
   "metadata": {},
   "outputs": [
    {
     "ename": "AttributeError",
     "evalue": "'function' object has no attribute 'to_html'",
     "output_type": "error",
     "traceback": [
      "\u001b[31m---------------------------------------------------------------------------\u001b[39m",
      "\u001b[31mAttributeError\u001b[39m                            Traceback (most recent call last)",
      "\u001b[36mCell\u001b[39m\u001b[36m \u001b[39m\u001b[32mIn[17]\u001b[39m\u001b[32m, line 1\u001b[39m\n\u001b[32m----> \u001b[39m\u001b[32m1\u001b[39m \u001b[43mresponse\u001b[49m\u001b[43m.\u001b[49m\u001b[43mjson\u001b[49m\u001b[43m.\u001b[49m\u001b[43mto_html\u001b[49m(\u001b[33m'\u001b[39m\u001b[33mtest.html\u001b[39m\u001b[33m'\u001b[39m)\n",
      "\u001b[31mAttributeError\u001b[39m: 'function' object has no attribute 'to_html'"
     ]
    }
   ],
   "source": [
    "response.json.to_html('test.html')"
   ]
  },
  {
   "cell_type": "code",
   "execution_count": null,
   "id": "c76a24b3",
   "metadata": {},
   "outputs": [
    {
     "ename": "JSONDecodeError",
     "evalue": "Expecting value: line 1 column 1 (char 0)",
     "output_type": "error",
     "traceback": [
      "\u001b[31m---------------------------------------------------------------------------\u001b[39m",
      "\u001b[31mJSONDecodeError\u001b[39m                           Traceback (most recent call last)",
      "\u001b[36mFile \u001b[39m\u001b[32mc:\\Temp\\venvs\\data-downloads\\Lib\\site-packages\\requests\\models.py:976\u001b[39m, in \u001b[36mResponse.json\u001b[39m\u001b[34m(self, **kwargs)\u001b[39m\n\u001b[32m    975\u001b[39m \u001b[38;5;28;01mtry\u001b[39;00m:\n\u001b[32m--> \u001b[39m\u001b[32m976\u001b[39m     \u001b[38;5;28;01mreturn\u001b[39;00m \u001b[43mcomplexjson\u001b[49m\u001b[43m.\u001b[49m\u001b[43mloads\u001b[49m\u001b[43m(\u001b[49m\u001b[38;5;28;43mself\u001b[39;49m\u001b[43m.\u001b[49m\u001b[43mtext\u001b[49m\u001b[43m,\u001b[49m\u001b[43m \u001b[49m\u001b[43m*\u001b[49m\u001b[43m*\u001b[49m\u001b[43mkwargs\u001b[49m\u001b[43m)\u001b[49m\n\u001b[32m    977\u001b[39m \u001b[38;5;28;01mexcept\u001b[39;00m JSONDecodeError \u001b[38;5;28;01mas\u001b[39;00m e:\n\u001b[32m    978\u001b[39m     \u001b[38;5;66;03m# Catch JSON-related errors and raise as requests.JSONDecodeError\u001b[39;00m\n\u001b[32m    979\u001b[39m     \u001b[38;5;66;03m# This aliases json.JSONDecodeError and simplejson.JSONDecodeError\u001b[39;00m\n",
      "\u001b[36mFile \u001b[39m\u001b[32mC:\\Program Files\\WindowsApps\\PythonSoftwareFoundation.Python.3.13_3.13.2544.0_x64__qbz5n2kfra8p0\\Lib\\json\\__init__.py:346\u001b[39m, in \u001b[36mloads\u001b[39m\u001b[34m(s, cls, object_hook, parse_float, parse_int, parse_constant, object_pairs_hook, **kw)\u001b[39m\n\u001b[32m    343\u001b[39m \u001b[38;5;28;01mif\u001b[39;00m (\u001b[38;5;28mcls\u001b[39m \u001b[38;5;129;01mis\u001b[39;00m \u001b[38;5;28;01mNone\u001b[39;00m \u001b[38;5;129;01mand\u001b[39;00m object_hook \u001b[38;5;129;01mis\u001b[39;00m \u001b[38;5;28;01mNone\u001b[39;00m \u001b[38;5;129;01mand\u001b[39;00m\n\u001b[32m    344\u001b[39m         parse_int \u001b[38;5;129;01mis\u001b[39;00m \u001b[38;5;28;01mNone\u001b[39;00m \u001b[38;5;129;01mand\u001b[39;00m parse_float \u001b[38;5;129;01mis\u001b[39;00m \u001b[38;5;28;01mNone\u001b[39;00m \u001b[38;5;129;01mand\u001b[39;00m\n\u001b[32m    345\u001b[39m         parse_constant \u001b[38;5;129;01mis\u001b[39;00m \u001b[38;5;28;01mNone\u001b[39;00m \u001b[38;5;129;01mand\u001b[39;00m object_pairs_hook \u001b[38;5;129;01mis\u001b[39;00m \u001b[38;5;28;01mNone\u001b[39;00m \u001b[38;5;129;01mand\u001b[39;00m \u001b[38;5;129;01mnot\u001b[39;00m kw):\n\u001b[32m--> \u001b[39m\u001b[32m346\u001b[39m     \u001b[38;5;28;01mreturn\u001b[39;00m \u001b[43m_default_decoder\u001b[49m\u001b[43m.\u001b[49m\u001b[43mdecode\u001b[49m\u001b[43m(\u001b[49m\u001b[43ms\u001b[49m\u001b[43m)\u001b[49m\n\u001b[32m    347\u001b[39m \u001b[38;5;28;01mif\u001b[39;00m \u001b[38;5;28mcls\u001b[39m \u001b[38;5;129;01mis\u001b[39;00m \u001b[38;5;28;01mNone\u001b[39;00m:\n",
      "\u001b[36mFile \u001b[39m\u001b[32mC:\\Program Files\\WindowsApps\\PythonSoftwareFoundation.Python.3.13_3.13.2544.0_x64__qbz5n2kfra8p0\\Lib\\json\\decoder.py:345\u001b[39m, in \u001b[36mJSONDecoder.decode\u001b[39m\u001b[34m(self, s, _w)\u001b[39m\n\u001b[32m    341\u001b[39m \u001b[38;5;250m\u001b[39m\u001b[33;03m\"\"\"Return the Python representation of ``s`` (a ``str`` instance\u001b[39;00m\n\u001b[32m    342\u001b[39m \u001b[33;03mcontaining a JSON document).\u001b[39;00m\n\u001b[32m    343\u001b[39m \n\u001b[32m    344\u001b[39m \u001b[33;03m\"\"\"\u001b[39;00m\n\u001b[32m--> \u001b[39m\u001b[32m345\u001b[39m obj, end = \u001b[38;5;28;43mself\u001b[39;49m\u001b[43m.\u001b[49m\u001b[43mraw_decode\u001b[49m\u001b[43m(\u001b[49m\u001b[43ms\u001b[49m\u001b[43m,\u001b[49m\u001b[43m \u001b[49m\u001b[43midx\u001b[49m\u001b[43m=\u001b[49m\u001b[43m_w\u001b[49m\u001b[43m(\u001b[49m\u001b[43ms\u001b[49m\u001b[43m,\u001b[49m\u001b[43m \u001b[49m\u001b[32;43m0\u001b[39;49m\u001b[43m)\u001b[49m\u001b[43m.\u001b[49m\u001b[43mend\u001b[49m\u001b[43m(\u001b[49m\u001b[43m)\u001b[49m\u001b[43m)\u001b[49m\n\u001b[32m    346\u001b[39m end = _w(s, end).end()\n",
      "\u001b[36mFile \u001b[39m\u001b[32mC:\\Program Files\\WindowsApps\\PythonSoftwareFoundation.Python.3.13_3.13.2544.0_x64__qbz5n2kfra8p0\\Lib\\json\\decoder.py:363\u001b[39m, in \u001b[36mJSONDecoder.raw_decode\u001b[39m\u001b[34m(self, s, idx)\u001b[39m\n\u001b[32m    362\u001b[39m \u001b[38;5;28;01mexcept\u001b[39;00m \u001b[38;5;167;01mStopIteration\u001b[39;00m \u001b[38;5;28;01mas\u001b[39;00m err:\n\u001b[32m--> \u001b[39m\u001b[32m363\u001b[39m     \u001b[38;5;28;01mraise\u001b[39;00m JSONDecodeError(\u001b[33m\"\u001b[39m\u001b[33mExpecting value\u001b[39m\u001b[33m\"\u001b[39m, s, err.value) \u001b[38;5;28;01mfrom\u001b[39;00m\u001b[38;5;250m \u001b[39m\u001b[38;5;28;01mNone\u001b[39;00m\n\u001b[32m    364\u001b[39m \u001b[38;5;28;01mreturn\u001b[39;00m obj, end\n",
      "\u001b[31mJSONDecodeError\u001b[39m: Expecting value: line 1 column 1 (char 0)",
      "\nDuring handling of the above exception, another exception occurred:\n",
      "\u001b[31mJSONDecodeError\u001b[39m                           Traceback (most recent call last)",
      "\u001b[36mCell\u001b[39m\u001b[36m \u001b[39m\u001b[32mIn[6]\u001b[39m\u001b[32m, line 1\u001b[39m\n\u001b[32m----> \u001b[39m\u001b[32m1\u001b[39m \u001b[43mresponse\u001b[49m\u001b[43m.\u001b[49m\u001b[43mjson\u001b[49m\u001b[43m(\u001b[49m\u001b[43m)\u001b[49m\n",
      "\u001b[36mFile \u001b[39m\u001b[32mc:\\Temp\\venvs\\data-downloads\\Lib\\site-packages\\requests\\models.py:980\u001b[39m, in \u001b[36mResponse.json\u001b[39m\u001b[34m(self, **kwargs)\u001b[39m\n\u001b[32m    976\u001b[39m     \u001b[38;5;28;01mreturn\u001b[39;00m complexjson.loads(\u001b[38;5;28mself\u001b[39m.text, **kwargs)\n\u001b[32m    977\u001b[39m \u001b[38;5;28;01mexcept\u001b[39;00m JSONDecodeError \u001b[38;5;28;01mas\u001b[39;00m e:\n\u001b[32m    978\u001b[39m     \u001b[38;5;66;03m# Catch JSON-related errors and raise as requests.JSONDecodeError\u001b[39;00m\n\u001b[32m    979\u001b[39m     \u001b[38;5;66;03m# This aliases json.JSONDecodeError and simplejson.JSONDecodeError\u001b[39;00m\n\u001b[32m--> \u001b[39m\u001b[32m980\u001b[39m     \u001b[38;5;28;01mraise\u001b[39;00m RequestsJSONDecodeError(e.msg, e.doc, e.pos)\n",
      "\u001b[31mJSONDecodeError\u001b[39m: Expecting value: line 1 column 1 (char 0)"
     ]
    }
   ],
   "source": [
    "https://environment.data.gov.uk/spatialdata/sites-of-special-scientific-interest-england/ogc/features/v1"
   ]
  }
 ],
 "metadata": {
  "kernelspec": {
   "display_name": "data-downloads",
   "language": "python",
   "name": "data-downloads"
  },
  "language_info": {
   "codemirror_mode": {
    "name": "ipython",
    "version": 3
   },
   "file_extension": ".py",
   "mimetype": "text/x-python",
   "name": "python",
   "nbconvert_exporter": "python",
   "pygments_lexer": "ipython3",
   "version": "3.13.9"
  }
 },
 "nbformat": 4,
 "nbformat_minor": 5
}
