{
 "cells": [
  {
   "cell_type": "code",
   "execution_count": 2,
   "id": "0d463d85",
   "metadata": {},
   "outputs": [],
   "source": [
    "import requests\n",
    "import os\n",
    "import json\n",
    "from zipfile import ZipFile\n",
    "import pandas as pd\n",
    "from osdatahub import OpenDataDownload"
   ]
  },
  {
   "cell_type": "code",
   "execution_count": 3,
   "id": "df5c2afb",
   "metadata": {},
   "outputs": [],
   "source": [
    "download_location = \"C:/Users/Lara/Work/DataDownloads/testData/\"\n",
    "temp_download_location = \"C:/Users/Lara/Work/DataDownloads/testDataZip/\"\n",
    "lookup_location = \"C:/Users/Lara/Work/DataDownloads/Lookups/\"\n",
    "item_url_file = \"OS-API_URL.csv\""
   ]
  },
  {
   "cell_type": "code",
   "execution_count": 4,
   "id": "d2a5e513",
   "metadata": {},
   "outputs": [
    {
     "data": {
      "text/html": [
       "<div>\n",
       "<style scoped>\n",
       "    .dataframe tbody tr th:only-of-type {\n",
       "        vertical-align: middle;\n",
       "    }\n",
       "\n",
       "    .dataframe tbody tr th {\n",
       "        vertical-align: top;\n",
       "    }\n",
       "\n",
       "    .dataframe thead th {\n",
       "        text-align: right;\n",
       "    }\n",
       "</style>\n",
       "<table border=\"1\" class=\"dataframe\">\n",
       "  <thead>\n",
       "    <tr style=\"text-align: right;\">\n",
       "      <th></th>\n",
       "      <th>Dataset</th>\n",
       "      <th>DatasetProductName</th>\n",
       "      <th>URL</th>\n",
       "      <th>Format</th>\n",
       "      <th>Source</th>\n",
       "    </tr>\n",
       "  </thead>\n",
       "  <tbody>\n",
       "    <tr>\n",
       "      <th>0</th>\n",
       "      <td>MiniScale</td>\n",
       "      <td>MiniScale</td>\n",
       "      <td>https://api.os.uk/downloads/v1/products/MiniSc...</td>\n",
       "      <td>Zip file (containing EPS, Illustrator and TIFF...</td>\n",
       "      <td>OS</td>\n",
       "    </tr>\n",
       "    <tr>\n",
       "      <th>1</th>\n",
       "      <td>1:250 000 Scale Colour Raster</td>\n",
       "      <td>250kScaleColourRaster</td>\n",
       "      <td>https://api.os.uk/downloads/v1/products/250kSc...</td>\n",
       "      <td>TIFF-LZW</td>\n",
       "      <td>OS</td>\n",
       "    </tr>\n",
       "    <tr>\n",
       "      <th>2</th>\n",
       "      <td>Boundary-Line</td>\n",
       "      <td>BoundaryLine</td>\n",
       "      <td>https://api.os.uk/downloads/v1/products/Bounda...</td>\n",
       "      <td>ESRI® Shapefile</td>\n",
       "      <td>OS</td>\n",
       "    </tr>\n",
       "  </tbody>\n",
       "</table>\n",
       "</div>"
      ],
      "text/plain": [
       "                         Dataset     DatasetProductName  \\\n",
       "0                      MiniScale              MiniScale   \n",
       "1  1:250 000 Scale Colour Raster  250kScaleColourRaster   \n",
       "2                  Boundary-Line           BoundaryLine   \n",
       "\n",
       "                                                 URL  \\\n",
       "0  https://api.os.uk/downloads/v1/products/MiniSc...   \n",
       "1  https://api.os.uk/downloads/v1/products/250kSc...   \n",
       "2  https://api.os.uk/downloads/v1/products/Bounda...   \n",
       "\n",
       "                                              Format Source  \n",
       "0  Zip file (containing EPS, Illustrator and TIFF...     OS  \n",
       "1                                           TIFF-LZW     OS  \n",
       "2                                    ESRI® Shapefile     OS  "
      ]
     },
     "execution_count": 4,
     "metadata": {},
     "output_type": "execute_result"
    }
   ],
   "source": [
    "# Read the csv file\n",
    "item_url_df = pd.read_csv(lookup_location + item_url_file)\n",
    "item_url_df.head(3)"
   ]
  },
  {
   "cell_type": "code",
   "execution_count": 66,
   "id": "000a8836",
   "metadata": {},
   "outputs": [
    {
     "name": "stdout",
     "output_type": "stream",
     "text": [
      "MiniScale\n"
     ]
    },
    {
     "ename": "AttributeError",
     "evalue": "'OpenDataDownload' object has no attribute 'text'",
     "output_type": "error",
     "traceback": [
      "\u001b[31m---------------------------------------------------------------------------\u001b[39m",
      "\u001b[31mAttributeError\u001b[39m                            Traceback (most recent call last)",
      "\u001b[36mCell\u001b[39m\u001b[36m \u001b[39m\u001b[32mIn[66]\u001b[39m\u001b[32m, line 4\u001b[39m\n\u001b[32m      2\u001b[39m \u001b[38;5;28mprint\u001b[39m(dataset)\n\u001b[32m      3\u001b[39m dataset_list = OpenDataDownload(dataset)\n\u001b[32m----> \u001b[39m\u001b[32m4\u001b[39m \u001b[38;5;28mprint\u001b[39m(\u001b[43mdataset_list\u001b[49m\u001b[43m.\u001b[49m\u001b[43mtext\u001b[49m)\n\u001b[32m      5\u001b[39m dataset_dict = dataset_list.product_list()\n\u001b[32m      6\u001b[39m \u001b[38;5;28mformat\u001b[39m = item_url_df[item_url_df.DatasetProductName==dataset][\u001b[33m'\u001b[39m\u001b[33mFormat\u001b[39m\u001b[33m'\u001b[39m].item()\n",
      "\u001b[31mAttributeError\u001b[39m: 'OpenDataDownload' object has no attribute 'text'"
     ]
    }
   ],
   "source": [
    "for dataset in item_url_df.DatasetProductName.unique():\n",
    "    print(dataset)\n",
    "    dataset_list = OpenDataDownload(dataset)\n",
    "    print(dataset_list.text)\n",
    "    dataset_dict = dataset_list.product_list()\n",
    "    format = item_url_df[item_url_df.DatasetProductName==dataset]['Format'].item()\n",
    "    source = item_url_df[item_url_df.DatasetProductName==dataset]['Source'].item()\n",
    "    for value in dataset_dict:\n",
    "        print(value)\n",
    "        # if value['format'] == format and value['area'] in [\"GB\",\"SP\", \"ST\", \"SU\", \"SO\"]:\n",
    "        #     dataset_url = value['url']\n",
    "        #     temp_folder_name = f\"{temp_download_location}\"\n",
    "        #     folder_name = f\"{download_location}{source}/{dataset}/\"\n",
    "        #     file_name = f\"{dataset}_{value['area']}.zip\"\n",
    "            \n",
    "        #     print(dataset_url)\n",
    "\n",
    "        #     response = requests.get(dataset_url)\n",
    "        #     # Check if request worked\n",
    "        #     if response.status_code == 200:\n",
    "        #         if not os.path.exists(folder_name):\n",
    "        #             os.makedirs(folder_name)\n",
    "        #         with open(temp_folder_name+file_name, mode=\"wb\") as file:\n",
    "        #             file.write(response.content)\n",
    "        #         with ZipFile(temp_folder_name+file_name, 'r') as z_object:\n",
    "        #             z_object.extractall(path=folder_name)\n",
    "        #     else:\n",
    "        #         print(f\"Request failed for {dataset}\")"
   ]
  },
  {
   "cell_type": "code",
   "execution_count": 61,
   "id": "f3a159ec",
   "metadata": {},
   "outputs": [
    {
     "name": "stdout",
     "output_type": "stream",
     "text": [
      "{'id': 'OpenRoads', 'name': 'OS Open Roads', 'description': ['Get a high-level view of the road network, from motorways to country lanes.'], 'version': '2025-04', 'url': 'https://api.os.uk/downloads/v1/products/OpenRoads', 'documentationUrl': 'https://www.ordnancesurvey.co.uk/products/os-open-roads', 'dataStructures': ['Vector'], 'category': 'Networks', 'formats': [{'format': 'ESRI® Shapefile'}, {'format': 'GML', 'subformat': '3'}, {'format': 'GeoPackage'}, {'format': 'Vector Tiles', 'subformat': '(MBTiles)'}], 'imageTemplate': 'https://api.os.uk/downloads/v1/products/OpenRoads/images/{index}', 'downloadsUrl': 'https://api.os.uk/downloads/v1/products/OpenRoads/downloads', 'areas': ['GB'], 'imageCount': 3}\n",
      "id\n",
      "name\n",
      "description\n",
      "version\n",
      "url\n",
      "documentationUrl\n",
      "dataStructures\n",
      "category\n",
      "formats\n",
      "imageTemplate\n",
      "downloadsUrl\n",
      "areas\n",
      "imageCount\n"
     ]
    }
   ],
   "source": [
    "BASE_URL = 'https://api.os.uk/downloads/v1/products'\n",
    "PRODUCT_ID = \"250kScaleColourRaster\"\n",
    "url = f'https://api.os.uk/downloads/v1/products/OpenRoads'\n",
    "\n",
    "\n",
    "# Get metadata for all downloadable datasets\n",
    "response = requests.get(url)\n",
    "products = response.json()\n",
    "print(products)\n",
    "# Filter or print metadata\n",
    "for product in products:\n",
    "    # print(f\"Product: {product['name']}\")\n",
    "    # print(f\"ID: {product['id']}\")\n",
    "    # print(f\"Version: {product['version']}\")\n",
    "    # print(f\"Available formats: {[f['format'] for f in product.get('formats', [])]}\")\n",
    "    # print('-' * 40)\n",
    "    print(product)"
   ]
  },
  {
   "cell_type": "code",
   "execution_count": 53,
   "id": "df1066d0",
   "metadata": {},
   "outputs": [
    {
     "name": "stdout",
     "output_type": "stream",
     "text": [
      "{'timestamp': '2025-08-19T16:18:04.153+00:00', 'path': '/v1/products/250kScaleColourRaster/versions', 'status': 404, 'error': 'Not Found', 'requestId': '8c1c5bef-404583'}\n"
     ]
    }
   ],
   "source": [
    "PRODUCT_ID = 'OpenRoads'  # Or 'os-mastermap-topography-layer', etc.\n",
    "\n",
    "url = 'https://api.os.uk/downloads/v1/products/250kScaleColourRaster/versions'\n",
    "\n",
    "response = requests.get(url)\n",
    "print(response.json())\n",
    "# for product in response.json():\n",
    "#     print(product)\n",
    "# if response.ok:\n",
    "#     versions = response.json()\n",
    "#     for version in versions:\n",
    "#         print(f\"Version: {version['version']}\")\n",
    "#         print(f\"Published: {version['published']}\")\n",
    "#         print('-' * 30)\n",
    "# else:\n",
    "#     print(\"Error:\", response.status_code, response.text)"
   ]
  },
  {
   "cell_type": "code",
   "execution_count": 41,
   "id": "449b04e9",
   "metadata": {},
   "outputs": [
    {
     "data": {
      "text/plain": [
       "b'[{\"id\":\"250kScaleColourRaster\",\"name\":\"1:250 000 Scale Colour Raster\\xe2\\x84\\xa2\",\"description\":[\"Get the regional view of towns and villages, roads and places of interest.\"],\"version\":\"2025-06\",\"url\":\"https://api.os.uk/downloads/v1/products/250kScaleColourRaster\"},{\"id\":\"GeoClimate_UKCP18_Open\",\"name\":\"BGS GeoClimate UKCP18 Open\",\"description\":[\"The BGS GeoClimate: shrink\\xe2\\x80\\x93swell national datasets show potential change in subsidence due to changes in climate. They have been developed by combining long-term UK Climate Projection (UKCP) scenarios for rainfall and temperature changes with the geotechnical properties of the ground, to identify areas projected to experience the largest increases in susceptibility to subsidence over the next century.\",\"GeoClimate UKCP18 Open is provided for two time periods, 2030s and 2070s, with one projection provided for each time period based on the average outcome for the UKCP18 higher emissions scenario and the most susceptible GeoSure value (worst case) within the grid cell.\",\"Further investigation can be carried out using BGS GeoClimate UKCP18 premium data.\"],\"version\":\"Version 1\",\"url\":\"https://api.os.uk/downloads/v1/products/GeoClimate_UKCP18_Open\",\"thirdPartyInfo\":{\"dataProvider\":{\"name\":\"British Geological Survey\",\"shortName\":\"BGS\",\"homepage\":\"https://www.bgs.ac.uk/\"}}},{\"id\":\"GeoCoast_Open\",\"name\":\"BGS GeoCoast Open\",\"description\":[\"BGS GeoCoast Open contains a detailed suite of statistical data based on the underlying datasets (GeoCoast Premium). These include, for example, percentage of county at threat from inundation and percentage of county coastline with high susceptibility to erosion. In addition, there is a tool to compare or share best practise at a regional scale and streamline the consideration of multiple underlying datasets through a simple, high-level scheme, presented as domains.\",\"GeoCoast Open consists of: regional statistics (shapefiles); coastal domains for erosion and morphology.\"],\"version\":\"Version 1\",\"url\":\"https://api.os.uk/downloads/v1/products/GeoCoast_Open\",\"thirdPartyInfo\":{\"dataProvider\":{\"name\":\"British Geological Survey\",\"shortName\":\"BGS\",\"homepage\":\"https://www.bgs.ac.uk/\"}}},{\"id\":\"GeoScour_Open\",\"name\":\"BGS GeoScour Open\",\"description\":[\"The BGS GeoScour Open datasets provide a generalised overview of the natural characteristics and properties of catchment and riverine environments for the assessment of river scour in Great Britain.\",\"The GeoScour Open dataset comprises two different tiers of geographical information system data containing seven different data layers. Each tier represents a different scale of assessment, from a high-level catchment to subcatchment data. The datasets are polygon (area) layers, which are described using straightforward classifications and enabling an indicative catchment susceptibility assessment.\",\"Further investigation can be carried out using BGS GeoScour premium data.\"],\"version\":\"Version 2\",\"url\":\"https://api.os.uk/downloads/v1/products/GeoScour_Open\",\"thirdPartyInfo\":{\"dataProvider\":{\"name\":\"British Geological Survey\",\"shortName\":\"BGS\",\"homepage\":\"https://www.bgs.ac.uk/\"}}},{\"id\":\"GB-Hex-5km-GeoSure\",\"name\":\"BGS GeoSure 5 km hex grid\",\"description\":[\"The BGS GeoSure 5 km hex grid datasets provide a generalised overview of the susceptibility to six naturally occurring geohazards in Great Britain. The hexagon grid provides a national-scale summary of the GeoSure data product. The detailed GeoSure dataset is also available to licence and provides further detail at a scale of 1:50 000.\",\"The 5 km hex grid data has been generalised into a vector map of interlocking hexagon cells (a side length of 5 km), with an area approximately 65 km\\xc2\\xb2 . There are three classes included within the data: low, moderate and significant.\",\"The six BGS GeoSure data layers provided are: collapsible deposits, compressible ground, landslides, running sand, shrink\\xe2\\x80\\x93swell and soluble rocks.\",\"Further investigation can be carried out using BGS GeoSure premium data for each hazard type.\"],\"version\":\"Version 8\",\"url\":\"https://api.os.uk/downloads/v1/products/GB-Hex-5km-GeoSure\",\"thirdPartyInfo\":{\"dataProvider\":{\"name\":\"British Geological Survey\",\"shortName\":\"BGS\",\"homepage\":\"https://www.bgs.ac.uk/\"}}},{\"id\":\"BGS_Geology_625k\",\"name\":\"BGS Geology 625K\",\"description\":[\"Generalised digital geological map data based on BGS\\xe2\\x80\\x99 published poster maps of the UK (north and south). Bedrock-related themes were created by generalisation of 1:50 000 data to make the 2007 fifth edition bedrock geology map.\",\"The geological areas (or polygons) are labelled or attributed with a name based on their lithostratographical, chronostratographical or lithodemic nomenclature and their composition (rock type or lithology). Faults and other linear features are available in a separate theme.\",\"Geology maps are the foundation for many other types of earth science-related maps and are of potential use to a wide range of customers. This dataset uses the themes: (i) bedrock geology; (ii) dykes; and (iii) linear (faults) features.\"],\"version\":\"Version 5\",\"url\":\"https://api.os.uk/downloads/v1/products/BGS_Geology_625k\",\"thirdPartyInfo\":{\"dataProvider\":{\"name\":\"British Geological Survey\",\"shortName\":\"BGS\",\"homepage\":\"https://www.bgs.ac.uk/\"}}},{\"id\":\"Hydrogeology_625k\",\"name\":\"BGS Hydrogeology 625k digital hydrogeological map of the UK\",\"description\":[\"The BGS hydrogeological map indicates aquifer potential in generalised terms using a threefold division of geological formations: (i) those in which intergranular flow in the saturated zone is dominant; (ii) those in which flow is controlled by fissures or discontinuities; and (iii) less permeable formations including aquifers concealed at depth beneath covering layers.\",\"Highly productive aquifers are distinguished from those that are only of local importance or have no significant groundwater. Within each of these classes the strata are grouped together according to age or lithology.\",\"The 1:625 000-scale data may be used as a guide to the aquifers at a regional or national level, but should not be relied on for local information.\"],\"version\":\"Version 5\",\"url\":\"https://api.os.uk/downloads/v1/products/Hydrogeology_625k\",\"thirdPartyInfo\":{\"dataProvider\":{\"name\":\"British Geological Survey\",\"shortName\":\"BGS\",\"homepage\":\"https://www.bgs.ac.uk/\"}}},{\"id\":\"GB-Hex-1km-Mining-Haz\",\"name\":\"BGS Mining hazard (not including coal) 1 km hex grid\",\"description\":[\"The BGS mining hazard (not including coal) 1 km hex grid dataset provides a generalised overview of the likelihood for mining to have occurred. It provides a national-scale summary of the presence of mining and an indication of the level of hazard associated with old workings.\",\"The data has been generalised into a vector map of interlocking hexagon cells, side length 1 km, area approximately 2.6 km\\xc2\\xb2\",\"There are four classes included within the data: (i) low: localised, small-scale mining may have occurred in the area; (ii) moderate: small-scale, underground mining may have occurred in the area; (iii) significant: underground mining is known or considered likely to have occurred in the area; and (iv) NA: no record of activity.\",\"The data has been generalised from the BGS mining hazard (not including coal) dataset. This additional, detailed dataset is also available to licence and provides further detail as well as information on the type of commodity extracted, mine names and any additional details where available, at a scale of 1:50 000.\",\"Further investigation can be carried out using BGS Mining Hazard (not including Coal) premium data.\"],\"version\":\"Version 8\",\"url\":\"https://api.os.uk/downloads/v1/products/GB-Hex-1km-Mining-Haz\",\"thirdPartyInfo\":{\"dataProvider\":{\"name\":\"British Geological Survey\",\"shortName\":\"BGS\",\"homepage\":\"https://www.bgs.ac.uk/\"}}},{\"id\":\"Soil_Parent_Material_Model_1km\",\"name\":\"BGS Soil Parent Material Model\",\"description\":[\"Soils are the result of weathering processes that occur on the Earth\\xe2\\x80\\x99s surface where the atmosphere meets the geosphere and hydrosphere. We live in this \\xe2\\x80\\x98critical zone\\xe2\\x80\\x99, relying on our soils to grow our food and sustain the biodiversity and health of our environment.\",\"A \\xe2\\x80\\x98parent material\\xe2\\x80\\x99 is a soil-science name for a weathered rock or deposit from and within which a soil has formed. In Great Britain, parent materials provide the basic foundations and building blocks of the soil, influencing their texture, structure, drainage and chemistry.\",\"The Soil Parent Material Model details the distribution of physiochemical properties of the weathered and unweathered parent materials of Great Britain to: (i) facilitate spatial mapping of soil properties Great Britain; (ii) identify soils and landscapes sensitive to erosion; (iii) provide a national overview of our soil resource; and (iv) develop a better understanding of weathering properties and processes.\"],\"version\":\"Version 6\",\"url\":\"https://api.os.uk/downloads/v1/products/Soil_Parent_Material_Model_1km\",\"thirdPartyInfo\":{\"dataProvider\":{\"name\":\"British Geological Survey\",\"shortName\":\"BGS\",\"homepage\":\"https://www.bgs.ac.uk/\"}}},{\"id\":\"Radon_Indicative_Atlas\",\"name\":\"BGS/UKHSA Radon data: Indicative Atlas of Radon\",\"description\":[\"The joint UK Health Security Agency (UKHSA)-BGS Indicative Atlas of Radon in the United Kingdom presents an overview of the results of detailed mapping of radon potential (defined as the estimated percentage of homes in an area above the radon action level).\",\"The Radon potential dataset for the United Kingdom provides the current definitive map of radon-affected areas in the United Kingdom. This data presents a simplified version of the radon potential dataset with each 1 km-grid square being classed according to the highest radon potential found within it, so is indicative rather than definitive.\",\"UKHSA recommends that radon levels should be reduced in homes where the annual average is at or above 200 becquerels per cubic metre (200 Bq/m\\xc2\\xb3 ) \\xe2\\x80\\x94 this is termed the radon action level.\",\"Further investigation can be carried out using the detailed BGS/UKHSA Radon Potential dataset.\"],\"version\":\"Version 3 (GB); Version 1 (NI)\",\"url\":\"https://api.os.uk/downloads/v1/products/Radon_Indicative_Atlas\",\"thirdPartyInfo\":{\"dataProvider\":{\"name\":\"British Geological Survey\",\"shortName\":\"BGS\",\"homepage\":\"https://www.bgs.ac.uk/\"}}},{\"id\":\"BoundaryLine\",\"name\":\"Boundary-Line\\xe2\\x84\\xa2\",\"description\":[\"From Euro constituencies to council wards, Boundary-Line\\xe2\\x84\\xa2 maps every administrative boundary in detail for you.\"],\"version\":\"2025-05\",\"url\":\"https://api.os.uk/downloads/v1/products/BoundaryLine\"},{\"id\":\"CodePointOpen\",\"name\":\"Code-Point\\xc2\\xae Open\",\"description\":[\"Free and open postcode location data. Can be used for geographical analysis, simple route planning, asset management and much more.\"],\"version\":\"2025-08\",\"url\":\"https://api.os.uk/downloads/v1/products/CodePointOpen\"},{\"id\":\"GBOverviewMaps\",\"name\":\"GB Overview Maps\",\"description\":[\"Our simplest maps of the British Isles.\"],\"version\":\"2025-01\",\"url\":\"https://api.os.uk/downloads/v1/products/GBOverviewMaps\"},{\"id\":\"MiniScale\",\"name\":\"MiniScale\\xc2\\xae\",\"description\":[\"A simple overview map of Great Britain.\"],\"version\":\"2025-01\",\"url\":\"https://api.os.uk/downloads/v1/products/MiniScale\"},{\"id\":\"BuiltUpAreas\",\"name\":\"OS Open Built Up Areas\",\"description\":[\"OS Open Built Up Areas represents the built-up areas of Great Britain equal to or greater than 200,000m\\xc2\\xb2 or 20 hectares and they include unique names, alternative language names and GSS codes.\"],\"version\":\"2024-04\",\"url\":\"https://api.os.uk/downloads/v1/products/BuiltUpAreas\"},{\"id\":\"OpenGreenspace\",\"name\":\"OS Open Greenspace\",\"description\":[\"Covering a range of greenspaces in urban and rural areas including playing fields, sports\\xe2\\x80\\x99 facilities, play areas and allotments.\"],\"version\":\"2025-04\",\"url\":\"https://api.os.uk/downloads/v1/products/OpenGreenspace\"},{\"id\":\"LIDS\",\"name\":\"OS Open Linked Identifiers\",\"description\":[\"A comprehensive dataset of cross-referenced identifiers, between various OS data products.\"],\"version\":\"2025-07\",\"url\":\"https://api.os.uk/downloads/v1/products/LIDS\"},{\"id\":\"OpenNames\",\"name\":\"OS Open Names\",\"description\":[\"A comprehensive dataset of place names, roads numbers and postcodes for Great Britain.\"],\"version\":\"2025-07\",\"url\":\"https://api.os.uk/downloads/v1/products/OpenNames\"},{\"id\":\"OpenRivers\",\"name\":\"OS Open Rivers\",\"description\":[\"Understand how watercourses in Great Britain join up.\"],\"version\":\"2025-04\",\"url\":\"https://api.os.uk/downloads/v1/products/OpenRivers\"},{\"id\":\"OpenRoads\",\"name\":\"OS Open Roads\",\"description\":[\"Get a high-level view of the road network, from motorways to country lanes.\"],\"version\":\"2025-04\",\"url\":\"https://api.os.uk/downloads/v1/products/OpenRoads\"},{\"id\":\"OpenTOID\",\"name\":\"OS Open TOID\",\"description\":[\"An open dataset providing access to a generalised location to key features found in OS MasterMap premium products enabling visualisation of third party data linked to their respective TOID identifier.\"],\"version\":\"2025-08\",\"url\":\"https://api.os.uk/downloads/v1/products/OpenTOID\"},{\"id\":\"OpenUPRN\",\"name\":\"OS Open UPRN\",\"description\":[\"An open dataset containing all the Unique Property Reference Numbers (UPRNs) found in AddressBase Premium, with their respective geometries in British National Grid and Latitude, Longitude.\",\"Note:\",\"It is not possible to load OS Open UPRN CSV files into Microsoft Excel\\xc2\\xae. The data supplied is too large for Excel to process. The CSV file can be loaded using ETL (extract, transform, load) tools, for example, FME\\xc2\\xae.\"],\"version\":\"2025-07\",\"url\":\"https://api.os.uk/downloads/v1/products/OpenUPRN\"},{\"id\":\"OpenUSRN\",\"name\":\"OS Open USRN\",\"description\":[\"An open dataset of all Unique Street Reference Numbers (USRNs) within OS MasterMap Highways Network, with an associated simplified line geometry representing the geographic extent of each USRN.\"],\"version\":\"2025-08\",\"url\":\"https://api.os.uk/downloads/v1/products/OpenUSRN\"},{\"id\":\"OpenZoomstack\",\"name\":\"OS Open Zoomstack\",\"description\":[\"A comprehensive basemap of Great Britain showing coverage from national level right down to street detail.\"],\"version\":\"2025-06\",\"url\":\"https://api.os.uk/downloads/v1/products/OpenZoomstack\"},{\"id\":\"OpenMapLocal\",\"name\":\"OS OpenMap - Local\",\"description\":[\"Map, visualise and truly understand your data at street level.\"],\"version\":\"2025-04\",\"url\":\"https://api.os.uk/downloads/v1/products/OpenMapLocal\"},{\"id\":\"Terrain50\",\"name\":\"OS Terrain\\xc2\\xae 50\",\"description\":[\"Visualise simple landscapes in 3D and bring your geographic analysis to life.\"],\"version\":\"2025-07\",\"url\":\"https://api.os.uk/downloads/v1/products/Terrain50\"},{\"id\":\"VectorMapDistrict\",\"name\":\"OS VectorMap\\xc2\\xae District\",\"description\":[\"District level mapping. Use the vectors to customise your perfect map or choose the raster for pre-defined cartography.\"],\"version\":\"2025-05\",\"url\":\"https://api.os.uk/downloads/v1/products/VectorMapDistrict\"}]'"
      ]
     },
     "execution_count": 41,
     "metadata": {},
     "output_type": "execute_result"
    }
   ],
   "source": [
    "response.content"
   ]
  },
  {
   "cell_type": "code",
   "execution_count": 34,
   "id": "8e82c096",
   "metadata": {},
   "outputs": [
    {
     "name": "stdout",
     "output_type": "stream",
     "text": [
      "https://api.os.uk/downloads/v1/products/OpenMapLocal/downloads?area=SO&format=ESRI%C2%AE+Shapefile&redirect\n",
      "https://api.os.uk/downloads/v1/products/OpenMapLocal/downloads?area=SP&format=ESRI%C2%AE+Shapefile&redirect\n",
      "https://api.os.uk/downloads/v1/products/OpenMapLocal/downloads?area=ST&format=ESRI%C2%AE+Shapefile&redirect\n",
      "https://api.os.uk/downloads/v1/products/OpenMapLocal/downloads?area=SU&format=ESRI%C2%AE+Shapefile&redirect\n",
      "https://api.os.uk/downloads/v1/products/OpenMapLocal/downloads?area=GB&format=ESRI%C2%AE+Shapefile&redirect\n"
     ]
    },
    {
     "ename": "KeyboardInterrupt",
     "evalue": "",
     "output_type": "error",
     "traceback": [
      "\u001b[31m---------------------------------------------------------------------------\u001b[39m",
      "\u001b[31mKeyboardInterrupt\u001b[39m                         Traceback (most recent call last)",
      "\u001b[36mCell\u001b[39m\u001b[36m \u001b[39m\u001b[32mIn[34]\u001b[39m\u001b[32m, line 8\u001b[39m\n\u001b[32m      6\u001b[39m file_name = download_location+\u001b[33m\"\u001b[39m\u001b[33mOpenMapLocal\u001b[39m\u001b[33m\"\u001b[39m+value[\u001b[33m'\u001b[39m\u001b[33marea\u001b[39m\u001b[33m'\u001b[39m]+\u001b[33m\"\u001b[39m\u001b[33m.zip\u001b[39m\u001b[33m\"\u001b[39m\n\u001b[32m      7\u001b[39m \u001b[38;5;28mprint\u001b[39m(dataset_url)\n\u001b[32m----> \u001b[39m\u001b[32m8\u001b[39m response = \u001b[43mrequests\u001b[49m\u001b[43m.\u001b[49m\u001b[43mget\u001b[49m\u001b[43m(\u001b[49m\u001b[43mdataset_url\u001b[49m\u001b[43m)\u001b[49m\n\u001b[32m      9\u001b[39m \u001b[38;5;28;01mwith\u001b[39;00m \u001b[38;5;28mopen\u001b[39m(file_name, mode=\u001b[33m\"\u001b[39m\u001b[33mwb\u001b[39m\u001b[33m\"\u001b[39m) \u001b[38;5;28;01mas\u001b[39;00m file:\n\u001b[32m     10\u001b[39m     file.write(response.content)\n",
      "\u001b[36mFile \u001b[39m\u001b[32mc:\\temp\\venvs\\data-downloads\\Lib\\site-packages\\requests\\api.py:73\u001b[39m, in \u001b[36mget\u001b[39m\u001b[34m(url, params, **kwargs)\u001b[39m\n\u001b[32m     62\u001b[39m \u001b[38;5;28;01mdef\u001b[39;00m\u001b[38;5;250m \u001b[39m\u001b[34mget\u001b[39m(url, params=\u001b[38;5;28;01mNone\u001b[39;00m, **kwargs):\n\u001b[32m     63\u001b[39m \u001b[38;5;250m    \u001b[39m\u001b[33mr\u001b[39m\u001b[33;03m\"\"\"Sends a GET request.\u001b[39;00m\n\u001b[32m     64\u001b[39m \n\u001b[32m     65\u001b[39m \u001b[33;03m    :param url: URL for the new :class:`Request` object.\u001b[39;00m\n\u001b[32m   (...)\u001b[39m\u001b[32m     70\u001b[39m \u001b[33;03m    :rtype: requests.Response\u001b[39;00m\n\u001b[32m     71\u001b[39m \u001b[33;03m    \"\"\"\u001b[39;00m\n\u001b[32m---> \u001b[39m\u001b[32m73\u001b[39m     \u001b[38;5;28;01mreturn\u001b[39;00m \u001b[43mrequest\u001b[49m\u001b[43m(\u001b[49m\u001b[33;43m\"\u001b[39;49m\u001b[33;43mget\u001b[39;49m\u001b[33;43m\"\u001b[39;49m\u001b[43m,\u001b[49m\u001b[43m \u001b[49m\u001b[43murl\u001b[49m\u001b[43m,\u001b[49m\u001b[43m \u001b[49m\u001b[43mparams\u001b[49m\u001b[43m=\u001b[49m\u001b[43mparams\u001b[49m\u001b[43m,\u001b[49m\u001b[43m \u001b[49m\u001b[43m*\u001b[49m\u001b[43m*\u001b[49m\u001b[43mkwargs\u001b[49m\u001b[43m)\u001b[49m\n",
      "\u001b[36mFile \u001b[39m\u001b[32mc:\\temp\\venvs\\data-downloads\\Lib\\site-packages\\requests\\api.py:59\u001b[39m, in \u001b[36mrequest\u001b[39m\u001b[34m(method, url, **kwargs)\u001b[39m\n\u001b[32m     55\u001b[39m \u001b[38;5;66;03m# By using the 'with' statement we are sure the session is closed, thus we\u001b[39;00m\n\u001b[32m     56\u001b[39m \u001b[38;5;66;03m# avoid leaving sockets open which can trigger a ResourceWarning in some\u001b[39;00m\n\u001b[32m     57\u001b[39m \u001b[38;5;66;03m# cases, and look like a memory leak in others.\u001b[39;00m\n\u001b[32m     58\u001b[39m \u001b[38;5;28;01mwith\u001b[39;00m sessions.Session() \u001b[38;5;28;01mas\u001b[39;00m session:\n\u001b[32m---> \u001b[39m\u001b[32m59\u001b[39m     \u001b[38;5;28;01mreturn\u001b[39;00m \u001b[43msession\u001b[49m\u001b[43m.\u001b[49m\u001b[43mrequest\u001b[49m\u001b[43m(\u001b[49m\u001b[43mmethod\u001b[49m\u001b[43m=\u001b[49m\u001b[43mmethod\u001b[49m\u001b[43m,\u001b[49m\u001b[43m \u001b[49m\u001b[43murl\u001b[49m\u001b[43m=\u001b[49m\u001b[43murl\u001b[49m\u001b[43m,\u001b[49m\u001b[43m \u001b[49m\u001b[43m*\u001b[49m\u001b[43m*\u001b[49m\u001b[43mkwargs\u001b[49m\u001b[43m)\u001b[49m\n",
      "\u001b[36mFile \u001b[39m\u001b[32mc:\\temp\\venvs\\data-downloads\\Lib\\site-packages\\requests\\sessions.py:589\u001b[39m, in \u001b[36mSession.request\u001b[39m\u001b[34m(self, method, url, params, data, headers, cookies, files, auth, timeout, allow_redirects, proxies, hooks, stream, verify, cert, json)\u001b[39m\n\u001b[32m    584\u001b[39m send_kwargs = {\n\u001b[32m    585\u001b[39m     \u001b[33m\"\u001b[39m\u001b[33mtimeout\u001b[39m\u001b[33m\"\u001b[39m: timeout,\n\u001b[32m    586\u001b[39m     \u001b[33m\"\u001b[39m\u001b[33mallow_redirects\u001b[39m\u001b[33m\"\u001b[39m: allow_redirects,\n\u001b[32m    587\u001b[39m }\n\u001b[32m    588\u001b[39m send_kwargs.update(settings)\n\u001b[32m--> \u001b[39m\u001b[32m589\u001b[39m resp = \u001b[38;5;28;43mself\u001b[39;49m\u001b[43m.\u001b[49m\u001b[43msend\u001b[49m\u001b[43m(\u001b[49m\u001b[43mprep\u001b[49m\u001b[43m,\u001b[49m\u001b[43m \u001b[49m\u001b[43m*\u001b[49m\u001b[43m*\u001b[49m\u001b[43msend_kwargs\u001b[49m\u001b[43m)\u001b[49m\n\u001b[32m    591\u001b[39m \u001b[38;5;28;01mreturn\u001b[39;00m resp\n",
      "\u001b[36mFile \u001b[39m\u001b[32mc:\\temp\\venvs\\data-downloads\\Lib\\site-packages\\requests\\sessions.py:724\u001b[39m, in \u001b[36mSession.send\u001b[39m\u001b[34m(self, request, **kwargs)\u001b[39m\n\u001b[32m    721\u001b[39m \u001b[38;5;28;01mif\u001b[39;00m allow_redirects:\n\u001b[32m    722\u001b[39m     \u001b[38;5;66;03m# Redirect resolving generator.\u001b[39;00m\n\u001b[32m    723\u001b[39m     gen = \u001b[38;5;28mself\u001b[39m.resolve_redirects(r, request, **kwargs)\n\u001b[32m--> \u001b[39m\u001b[32m724\u001b[39m     history = \u001b[43m[\u001b[49m\u001b[43mresp\u001b[49m\u001b[43m \u001b[49m\u001b[38;5;28;43;01mfor\u001b[39;49;00m\u001b[43m \u001b[49m\u001b[43mresp\u001b[49m\u001b[43m \u001b[49m\u001b[38;5;129;43;01min\u001b[39;49;00m\u001b[43m \u001b[49m\u001b[43mgen\u001b[49m\u001b[43m]\u001b[49m\n\u001b[32m    725\u001b[39m \u001b[38;5;28;01melse\u001b[39;00m:\n\u001b[32m    726\u001b[39m     history = []\n",
      "\u001b[36mFile \u001b[39m\u001b[32mc:\\temp\\venvs\\data-downloads\\Lib\\site-packages\\requests\\sessions.py:265\u001b[39m, in \u001b[36mSessionRedirectMixin.resolve_redirects\u001b[39m\u001b[34m(self, resp, req, stream, timeout, verify, cert, proxies, yield_requests, **adapter_kwargs)\u001b[39m\n\u001b[32m    263\u001b[39m     \u001b[38;5;28;01myield\u001b[39;00m req\n\u001b[32m    264\u001b[39m \u001b[38;5;28;01melse\u001b[39;00m:\n\u001b[32m--> \u001b[39m\u001b[32m265\u001b[39m     resp = \u001b[38;5;28;43mself\u001b[39;49m\u001b[43m.\u001b[49m\u001b[43msend\u001b[49m\u001b[43m(\u001b[49m\n\u001b[32m    266\u001b[39m \u001b[43m        \u001b[49m\u001b[43mreq\u001b[49m\u001b[43m,\u001b[49m\n\u001b[32m    267\u001b[39m \u001b[43m        \u001b[49m\u001b[43mstream\u001b[49m\u001b[43m=\u001b[49m\u001b[43mstream\u001b[49m\u001b[43m,\u001b[49m\n\u001b[32m    268\u001b[39m \u001b[43m        \u001b[49m\u001b[43mtimeout\u001b[49m\u001b[43m=\u001b[49m\u001b[43mtimeout\u001b[49m\u001b[43m,\u001b[49m\n\u001b[32m    269\u001b[39m \u001b[43m        \u001b[49m\u001b[43mverify\u001b[49m\u001b[43m=\u001b[49m\u001b[43mverify\u001b[49m\u001b[43m,\u001b[49m\n\u001b[32m    270\u001b[39m \u001b[43m        \u001b[49m\u001b[43mcert\u001b[49m\u001b[43m=\u001b[49m\u001b[43mcert\u001b[49m\u001b[43m,\u001b[49m\n\u001b[32m    271\u001b[39m \u001b[43m        \u001b[49m\u001b[43mproxies\u001b[49m\u001b[43m=\u001b[49m\u001b[43mproxies\u001b[49m\u001b[43m,\u001b[49m\n\u001b[32m    272\u001b[39m \u001b[43m        \u001b[49m\u001b[43mallow_redirects\u001b[49m\u001b[43m=\u001b[49m\u001b[38;5;28;43;01mFalse\u001b[39;49;00m\u001b[43m,\u001b[49m\n\u001b[32m    273\u001b[39m \u001b[43m        \u001b[49m\u001b[43m*\u001b[49m\u001b[43m*\u001b[49m\u001b[43madapter_kwargs\u001b[49m\u001b[43m,\u001b[49m\n\u001b[32m    274\u001b[39m \u001b[43m    \u001b[49m\u001b[43m)\u001b[49m\n\u001b[32m    276\u001b[39m     extract_cookies_to_jar(\u001b[38;5;28mself\u001b[39m.cookies, prepared_request, resp.raw)\n\u001b[32m    278\u001b[39m     \u001b[38;5;66;03m# extract redirect url, if any, for the next loop\u001b[39;00m\n",
      "\u001b[36mFile \u001b[39m\u001b[32mc:\\temp\\venvs\\data-downloads\\Lib\\site-packages\\requests\\sessions.py:746\u001b[39m, in \u001b[36mSession.send\u001b[39m\u001b[34m(self, request, **kwargs)\u001b[39m\n\u001b[32m    743\u001b[39m         \u001b[38;5;28;01mpass\u001b[39;00m\n\u001b[32m    745\u001b[39m \u001b[38;5;28;01mif\u001b[39;00m \u001b[38;5;129;01mnot\u001b[39;00m stream:\n\u001b[32m--> \u001b[39m\u001b[32m746\u001b[39m     \u001b[43mr\u001b[49m\u001b[43m.\u001b[49m\u001b[43mcontent\u001b[49m\n\u001b[32m    748\u001b[39m \u001b[38;5;28;01mreturn\u001b[39;00m r\n",
      "\u001b[36mFile \u001b[39m\u001b[32mc:\\temp\\venvs\\data-downloads\\Lib\\site-packages\\requests\\models.py:902\u001b[39m, in \u001b[36mResponse.content\u001b[39m\u001b[34m(self)\u001b[39m\n\u001b[32m    900\u001b[39m         \u001b[38;5;28mself\u001b[39m._content = \u001b[38;5;28;01mNone\u001b[39;00m\n\u001b[32m    901\u001b[39m     \u001b[38;5;28;01melse\u001b[39;00m:\n\u001b[32m--> \u001b[39m\u001b[32m902\u001b[39m         \u001b[38;5;28mself\u001b[39m._content = \u001b[33;43mb\u001b[39;49m\u001b[33;43m\"\u001b[39;49m\u001b[33;43m\"\u001b[39;49m\u001b[43m.\u001b[49m\u001b[43mjoin\u001b[49m\u001b[43m(\u001b[49m\u001b[38;5;28;43mself\u001b[39;49m\u001b[43m.\u001b[49m\u001b[43miter_content\u001b[49m\u001b[43m(\u001b[49m\u001b[43mCONTENT_CHUNK_SIZE\u001b[49m\u001b[43m)\u001b[49m\u001b[43m)\u001b[49m \u001b[38;5;129;01mor\u001b[39;00m \u001b[33mb\u001b[39m\u001b[33m\"\u001b[39m\u001b[33m\"\u001b[39m\n\u001b[32m    904\u001b[39m \u001b[38;5;28mself\u001b[39m._content_consumed = \u001b[38;5;28;01mTrue\u001b[39;00m\n\u001b[32m    905\u001b[39m \u001b[38;5;66;03m# don't need to release the connection; that's been handled by urllib3\u001b[39;00m\n\u001b[32m    906\u001b[39m \u001b[38;5;66;03m# since we exhausted the data.\u001b[39;00m\n",
      "\u001b[36mFile \u001b[39m\u001b[32mc:\\temp\\venvs\\data-downloads\\Lib\\site-packages\\requests\\models.py:820\u001b[39m, in \u001b[36mResponse.iter_content.<locals>.generate\u001b[39m\u001b[34m()\u001b[39m\n\u001b[32m    818\u001b[39m \u001b[38;5;28;01mif\u001b[39;00m \u001b[38;5;28mhasattr\u001b[39m(\u001b[38;5;28mself\u001b[39m.raw, \u001b[33m\"\u001b[39m\u001b[33mstream\u001b[39m\u001b[33m\"\u001b[39m):\n\u001b[32m    819\u001b[39m     \u001b[38;5;28;01mtry\u001b[39;00m:\n\u001b[32m--> \u001b[39m\u001b[32m820\u001b[39m         \u001b[38;5;28;01myield from\u001b[39;00m \u001b[38;5;28mself\u001b[39m.raw.stream(chunk_size, decode_content=\u001b[38;5;28;01mTrue\u001b[39;00m)\n\u001b[32m    821\u001b[39m     \u001b[38;5;28;01mexcept\u001b[39;00m ProtocolError \u001b[38;5;28;01mas\u001b[39;00m e:\n\u001b[32m    822\u001b[39m         \u001b[38;5;28;01mraise\u001b[39;00m ChunkedEncodingError(e)\n",
      "\u001b[36mFile \u001b[39m\u001b[32mc:\\temp\\venvs\\data-downloads\\Lib\\site-packages\\urllib3\\response.py:1091\u001b[39m, in \u001b[36mHTTPResponse.stream\u001b[39m\u001b[34m(self, amt, decode_content)\u001b[39m\n\u001b[32m   1089\u001b[39m \u001b[38;5;28;01melse\u001b[39;00m:\n\u001b[32m   1090\u001b[39m     \u001b[38;5;28;01mwhile\u001b[39;00m \u001b[38;5;129;01mnot\u001b[39;00m is_fp_closed(\u001b[38;5;28mself\u001b[39m._fp) \u001b[38;5;129;01mor\u001b[39;00m \u001b[38;5;28mlen\u001b[39m(\u001b[38;5;28mself\u001b[39m._decoded_buffer) > \u001b[32m0\u001b[39m:\n\u001b[32m-> \u001b[39m\u001b[32m1091\u001b[39m         data = \u001b[38;5;28;43mself\u001b[39;49m\u001b[43m.\u001b[49m\u001b[43mread\u001b[49m\u001b[43m(\u001b[49m\u001b[43mamt\u001b[49m\u001b[43m=\u001b[49m\u001b[43mamt\u001b[49m\u001b[43m,\u001b[49m\u001b[43m \u001b[49m\u001b[43mdecode_content\u001b[49m\u001b[43m=\u001b[49m\u001b[43mdecode_content\u001b[49m\u001b[43m)\u001b[49m\n\u001b[32m   1093\u001b[39m         \u001b[38;5;28;01mif\u001b[39;00m data:\n\u001b[32m   1094\u001b[39m             \u001b[38;5;28;01myield\u001b[39;00m data\n",
      "\u001b[36mFile \u001b[39m\u001b[32mc:\\temp\\venvs\\data-downloads\\Lib\\site-packages\\urllib3\\response.py:980\u001b[39m, in \u001b[36mHTTPResponse.read\u001b[39m\u001b[34m(self, amt, decode_content, cache_content)\u001b[39m\n\u001b[32m    977\u001b[39m     \u001b[38;5;28;01mif\u001b[39;00m \u001b[38;5;28mlen\u001b[39m(\u001b[38;5;28mself\u001b[39m._decoded_buffer) >= amt:\n\u001b[32m    978\u001b[39m         \u001b[38;5;28;01mreturn\u001b[39;00m \u001b[38;5;28mself\u001b[39m._decoded_buffer.get(amt)\n\u001b[32m--> \u001b[39m\u001b[32m980\u001b[39m data = \u001b[38;5;28;43mself\u001b[39;49m\u001b[43m.\u001b[49m\u001b[43m_raw_read\u001b[49m\u001b[43m(\u001b[49m\u001b[43mamt\u001b[49m\u001b[43m)\u001b[49m\n\u001b[32m    982\u001b[39m flush_decoder = amt \u001b[38;5;129;01mis\u001b[39;00m \u001b[38;5;28;01mNone\u001b[39;00m \u001b[38;5;129;01mor\u001b[39;00m (amt != \u001b[32m0\u001b[39m \u001b[38;5;129;01mand\u001b[39;00m \u001b[38;5;129;01mnot\u001b[39;00m data)\n\u001b[32m    984\u001b[39m \u001b[38;5;28;01mif\u001b[39;00m \u001b[38;5;129;01mnot\u001b[39;00m data \u001b[38;5;129;01mand\u001b[39;00m \u001b[38;5;28mlen\u001b[39m(\u001b[38;5;28mself\u001b[39m._decoded_buffer) == \u001b[32m0\u001b[39m:\n",
      "\u001b[36mFile \u001b[39m\u001b[32mc:\\temp\\venvs\\data-downloads\\Lib\\site-packages\\urllib3\\response.py:904\u001b[39m, in \u001b[36mHTTPResponse._raw_read\u001b[39m\u001b[34m(self, amt, read1)\u001b[39m\n\u001b[32m    901\u001b[39m fp_closed = \u001b[38;5;28mgetattr\u001b[39m(\u001b[38;5;28mself\u001b[39m._fp, \u001b[33m\"\u001b[39m\u001b[33mclosed\u001b[39m\u001b[33m\"\u001b[39m, \u001b[38;5;28;01mFalse\u001b[39;00m)\n\u001b[32m    903\u001b[39m \u001b[38;5;28;01mwith\u001b[39;00m \u001b[38;5;28mself\u001b[39m._error_catcher():\n\u001b[32m--> \u001b[39m\u001b[32m904\u001b[39m     data = \u001b[38;5;28;43mself\u001b[39;49m\u001b[43m.\u001b[49m\u001b[43m_fp_read\u001b[49m\u001b[43m(\u001b[49m\u001b[43mamt\u001b[49m\u001b[43m,\u001b[49m\u001b[43m \u001b[49m\u001b[43mread1\u001b[49m\u001b[43m=\u001b[49m\u001b[43mread1\u001b[49m\u001b[43m)\u001b[49m \u001b[38;5;28;01mif\u001b[39;00m \u001b[38;5;129;01mnot\u001b[39;00m fp_closed \u001b[38;5;28;01melse\u001b[39;00m \u001b[33mb\u001b[39m\u001b[33m\"\u001b[39m\u001b[33m\"\u001b[39m\n\u001b[32m    905\u001b[39m     \u001b[38;5;28;01mif\u001b[39;00m amt \u001b[38;5;129;01mis\u001b[39;00m \u001b[38;5;129;01mnot\u001b[39;00m \u001b[38;5;28;01mNone\u001b[39;00m \u001b[38;5;129;01mand\u001b[39;00m amt != \u001b[32m0\u001b[39m \u001b[38;5;129;01mand\u001b[39;00m \u001b[38;5;129;01mnot\u001b[39;00m data:\n\u001b[32m    906\u001b[39m         \u001b[38;5;66;03m# Platform-specific: Buggy versions of Python.\u001b[39;00m\n\u001b[32m    907\u001b[39m         \u001b[38;5;66;03m# Close the connection when no data is returned\u001b[39;00m\n\u001b[32m   (...)\u001b[39m\u001b[32m    912\u001b[39m         \u001b[38;5;66;03m# not properly close the connection in all cases. There is\u001b[39;00m\n\u001b[32m    913\u001b[39m         \u001b[38;5;66;03m# no harm in redundantly calling close.\u001b[39;00m\n\u001b[32m    914\u001b[39m         \u001b[38;5;28mself\u001b[39m._fp.close()\n",
      "\u001b[36mFile \u001b[39m\u001b[32mc:\\temp\\venvs\\data-downloads\\Lib\\site-packages\\urllib3\\response.py:887\u001b[39m, in \u001b[36mHTTPResponse._fp_read\u001b[39m\u001b[34m(self, amt, read1)\u001b[39m\n\u001b[32m    884\u001b[39m     \u001b[38;5;28;01mreturn\u001b[39;00m \u001b[38;5;28mself\u001b[39m._fp.read1(amt) \u001b[38;5;28;01mif\u001b[39;00m amt \u001b[38;5;129;01mis\u001b[39;00m \u001b[38;5;129;01mnot\u001b[39;00m \u001b[38;5;28;01mNone\u001b[39;00m \u001b[38;5;28;01melse\u001b[39;00m \u001b[38;5;28mself\u001b[39m._fp.read1()\n\u001b[32m    885\u001b[39m \u001b[38;5;28;01melse\u001b[39;00m:\n\u001b[32m    886\u001b[39m     \u001b[38;5;66;03m# StringIO doesn't like amt=None\u001b[39;00m\n\u001b[32m--> \u001b[39m\u001b[32m887\u001b[39m     \u001b[38;5;28;01mreturn\u001b[39;00m \u001b[38;5;28;43mself\u001b[39;49m\u001b[43m.\u001b[49m\u001b[43m_fp\u001b[49m\u001b[43m.\u001b[49m\u001b[43mread\u001b[49m\u001b[43m(\u001b[49m\u001b[43mamt\u001b[49m\u001b[43m)\u001b[49m \u001b[38;5;28;01mif\u001b[39;00m amt \u001b[38;5;129;01mis\u001b[39;00m \u001b[38;5;129;01mnot\u001b[39;00m \u001b[38;5;28;01mNone\u001b[39;00m \u001b[38;5;28;01melse\u001b[39;00m \u001b[38;5;28mself\u001b[39m._fp.read()\n",
      "\u001b[36mFile \u001b[39m\u001b[32mC:\\Program Files\\WindowsApps\\PythonSoftwareFoundation.Python.3.13_3.13.2032.0_x64__qbz5n2kfra8p0\\Lib\\http\\client.py:479\u001b[39m, in \u001b[36mHTTPResponse.read\u001b[39m\u001b[34m(self, amt)\u001b[39m\n\u001b[32m    476\u001b[39m \u001b[38;5;28;01mif\u001b[39;00m \u001b[38;5;28mself\u001b[39m.length \u001b[38;5;129;01mis\u001b[39;00m \u001b[38;5;129;01mnot\u001b[39;00m \u001b[38;5;28;01mNone\u001b[39;00m \u001b[38;5;129;01mand\u001b[39;00m amt > \u001b[38;5;28mself\u001b[39m.length:\n\u001b[32m    477\u001b[39m     \u001b[38;5;66;03m# clip the read to the \"end of response\"\u001b[39;00m\n\u001b[32m    478\u001b[39m     amt = \u001b[38;5;28mself\u001b[39m.length\n\u001b[32m--> \u001b[39m\u001b[32m479\u001b[39m s = \u001b[38;5;28;43mself\u001b[39;49m\u001b[43m.\u001b[49m\u001b[43mfp\u001b[49m\u001b[43m.\u001b[49m\u001b[43mread\u001b[49m\u001b[43m(\u001b[49m\u001b[43mamt\u001b[49m\u001b[43m)\u001b[49m\n\u001b[32m    480\u001b[39m \u001b[38;5;28;01mif\u001b[39;00m \u001b[38;5;129;01mnot\u001b[39;00m s \u001b[38;5;129;01mand\u001b[39;00m amt:\n\u001b[32m    481\u001b[39m     \u001b[38;5;66;03m# Ideally, we would raise IncompleteRead if the content-length\u001b[39;00m\n\u001b[32m    482\u001b[39m     \u001b[38;5;66;03m# wasn't satisfied, but it might break compatibility.\u001b[39;00m\n\u001b[32m    483\u001b[39m     \u001b[38;5;28mself\u001b[39m._close_conn()\n",
      "\u001b[36mFile \u001b[39m\u001b[32mC:\\Program Files\\WindowsApps\\PythonSoftwareFoundation.Python.3.13_3.13.2032.0_x64__qbz5n2kfra8p0\\Lib\\socket.py:719\u001b[39m, in \u001b[36mSocketIO.readinto\u001b[39m\u001b[34m(self, b)\u001b[39m\n\u001b[32m    717\u001b[39m     \u001b[38;5;28;01mraise\u001b[39;00m \u001b[38;5;167;01mOSError\u001b[39;00m(\u001b[33m\"\u001b[39m\u001b[33mcannot read from timed out object\u001b[39m\u001b[33m\"\u001b[39m)\n\u001b[32m    718\u001b[39m \u001b[38;5;28;01mtry\u001b[39;00m:\n\u001b[32m--> \u001b[39m\u001b[32m719\u001b[39m     \u001b[38;5;28;01mreturn\u001b[39;00m \u001b[38;5;28;43mself\u001b[39;49m\u001b[43m.\u001b[49m\u001b[43m_sock\u001b[49m\u001b[43m.\u001b[49m\u001b[43mrecv_into\u001b[49m\u001b[43m(\u001b[49m\u001b[43mb\u001b[49m\u001b[43m)\u001b[49m\n\u001b[32m    720\u001b[39m \u001b[38;5;28;01mexcept\u001b[39;00m timeout:\n\u001b[32m    721\u001b[39m     \u001b[38;5;28mself\u001b[39m._timeout_occurred = \u001b[38;5;28;01mTrue\u001b[39;00m\n",
      "\u001b[36mFile \u001b[39m\u001b[32mC:\\Program Files\\WindowsApps\\PythonSoftwareFoundation.Python.3.13_3.13.2032.0_x64__qbz5n2kfra8p0\\Lib\\ssl.py:1304\u001b[39m, in \u001b[36mSSLSocket.recv_into\u001b[39m\u001b[34m(self, buffer, nbytes, flags)\u001b[39m\n\u001b[32m   1300\u001b[39m     \u001b[38;5;28;01mif\u001b[39;00m flags != \u001b[32m0\u001b[39m:\n\u001b[32m   1301\u001b[39m         \u001b[38;5;28;01mraise\u001b[39;00m \u001b[38;5;167;01mValueError\u001b[39;00m(\n\u001b[32m   1302\u001b[39m           \u001b[33m\"\u001b[39m\u001b[33mnon-zero flags not allowed in calls to recv_into() on \u001b[39m\u001b[38;5;132;01m%s\u001b[39;00m\u001b[33m\"\u001b[39m %\n\u001b[32m   1303\u001b[39m           \u001b[38;5;28mself\u001b[39m.\u001b[34m__class__\u001b[39m)\n\u001b[32m-> \u001b[39m\u001b[32m1304\u001b[39m     \u001b[38;5;28;01mreturn\u001b[39;00m \u001b[38;5;28;43mself\u001b[39;49m\u001b[43m.\u001b[49m\u001b[43mread\u001b[49m\u001b[43m(\u001b[49m\u001b[43mnbytes\u001b[49m\u001b[43m,\u001b[49m\u001b[43m \u001b[49m\u001b[43mbuffer\u001b[49m\u001b[43m)\u001b[49m\n\u001b[32m   1305\u001b[39m \u001b[38;5;28;01melse\u001b[39;00m:\n\u001b[32m   1306\u001b[39m     \u001b[38;5;28;01mreturn\u001b[39;00m \u001b[38;5;28msuper\u001b[39m().recv_into(buffer, nbytes, flags)\n",
      "\u001b[36mFile \u001b[39m\u001b[32mC:\\Program Files\\WindowsApps\\PythonSoftwareFoundation.Python.3.13_3.13.2032.0_x64__qbz5n2kfra8p0\\Lib\\ssl.py:1138\u001b[39m, in \u001b[36mSSLSocket.read\u001b[39m\u001b[34m(self, len, buffer)\u001b[39m\n\u001b[32m   1136\u001b[39m \u001b[38;5;28;01mtry\u001b[39;00m:\n\u001b[32m   1137\u001b[39m     \u001b[38;5;28;01mif\u001b[39;00m buffer \u001b[38;5;129;01mis\u001b[39;00m \u001b[38;5;129;01mnot\u001b[39;00m \u001b[38;5;28;01mNone\u001b[39;00m:\n\u001b[32m-> \u001b[39m\u001b[32m1138\u001b[39m         \u001b[38;5;28;01mreturn\u001b[39;00m \u001b[38;5;28;43mself\u001b[39;49m\u001b[43m.\u001b[49m\u001b[43m_sslobj\u001b[49m\u001b[43m.\u001b[49m\u001b[43mread\u001b[49m\u001b[43m(\u001b[49m\u001b[38;5;28;43mlen\u001b[39;49m\u001b[43m,\u001b[49m\u001b[43m \u001b[49m\u001b[43mbuffer\u001b[49m\u001b[43m)\u001b[49m\n\u001b[32m   1139\u001b[39m     \u001b[38;5;28;01melse\u001b[39;00m:\n\u001b[32m   1140\u001b[39m         \u001b[38;5;28;01mreturn\u001b[39;00m \u001b[38;5;28mself\u001b[39m._sslobj.read(\u001b[38;5;28mlen\u001b[39m)\n",
      "\u001b[31mKeyboardInterrupt\u001b[39m: "
     ]
    }
   ],
   "source": [
    "dataset_list = OpenDataDownload(\"OpenMapLocal\")\n",
    "dataset_dict = dataset_list.product_list()\n",
    "for value in dataset_dict:\n",
    "    if value['format'] == \"ESRI® Shapefile\" and value['area'] in [\"GB\",\"SP\", \"ST\", \"SU\", \"SO\"]:\n",
    "        dataset_url = value['url']\n",
    "        file_name = download_location+\"OpenMapLocal\"+value['area']+\".zip\"\n",
    "        print(dataset_url)\n",
    "        response = requests.get(dataset_url)\n",
    "        with open(file_name, mode=\"wb\") as file:\n",
    "            file.write(response.content)"
   ]
  }
 ],
 "metadata": {
  "kernelspec": {
   "display_name": "data-downloads",
   "language": "python",
   "name": "data-downloads"
  },
  "language_info": {
   "codemirror_mode": {
    "name": "ipython",
    "version": 3
   },
   "file_extension": ".py",
   "mimetype": "text/x-python",
   "name": "python",
   "nbconvert_exporter": "python",
   "pygments_lexer": "ipython3",
   "version": "3.13.7"
  }
 },
 "nbformat": 4,
 "nbformat_minor": 5
}
