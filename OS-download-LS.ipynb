{
 "cells": [
  {
   "cell_type": "code",
   "execution_count": 2,
   "id": "0d463d85",
   "metadata": {},
   "outputs": [],
   "source": [
    "import requests\n",
    "import os\n",
    "import json\n",
    "from zipfile import ZipFile\n",
    "import pandas as pd\n",
    "from osdatahub import OpenDataDownload"
   ]
  },
  {
   "cell_type": "code",
   "execution_count": 3,
   "id": "df5c2afb",
   "metadata": {},
   "outputs": [],
   "source": [
    "download_location = \"C:/Users/Lara/Work/DataDownloads/testData/\"\n",
    "temp_download_location = \"C:/Users/Lara/Work/DataDownloads/testDataZip/\"\n",
    "lookup_location = \"C:/Users/Lara/Work/DataDownloads/Lookups/\"\n",
    "item_url_file = \"OS-API_URL.csv\""
   ]
  },
  {
   "cell_type": "code",
   "execution_count": 4,
   "id": "d2a5e513",
   "metadata": {},
   "outputs": [
    {
     "data": {
      "text/html": [
       "<div>\n",
       "<style scoped>\n",
       "    .dataframe tbody tr th:only-of-type {\n",
       "        vertical-align: middle;\n",
       "    }\n",
       "\n",
       "    .dataframe tbody tr th {\n",
       "        vertical-align: top;\n",
       "    }\n",
       "\n",
       "    .dataframe thead th {\n",
       "        text-align: right;\n",
       "    }\n",
       "</style>\n",
       "<table border=\"1\" class=\"dataframe\">\n",
       "  <thead>\n",
       "    <tr style=\"text-align: right;\">\n",
       "      <th></th>\n",
       "      <th>Dataset</th>\n",
       "      <th>DatasetProductName</th>\n",
       "      <th>URL</th>\n",
       "      <th>Format</th>\n",
       "      <th>Source</th>\n",
       "    </tr>\n",
       "  </thead>\n",
       "  <tbody>\n",
       "    <tr>\n",
       "      <th>0</th>\n",
       "      <td>MiniScale</td>\n",
       "      <td>MiniScale</td>\n",
       "      <td>https://api.os.uk/downloads/v1/products/MiniSc...</td>\n",
       "      <td>Zip file (containing EPS, Illustrator and TIFF...</td>\n",
       "      <td>OS</td>\n",
       "    </tr>\n",
       "    <tr>\n",
       "      <th>1</th>\n",
       "      <td>1:250 000 Scale Colour Raster</td>\n",
       "      <td>250kScaleColourRaster</td>\n",
       "      <td>https://api.os.uk/downloads/v1/products/250kSc...</td>\n",
       "      <td>TIFF-LZW</td>\n",
       "      <td>OS</td>\n",
       "    </tr>\n",
       "    <tr>\n",
       "      <th>2</th>\n",
       "      <td>Boundary-Line</td>\n",
       "      <td>BoundaryLine</td>\n",
       "      <td>https://api.os.uk/downloads/v1/products/Bounda...</td>\n",
       "      <td>ESRI® Shapefile</td>\n",
       "      <td>OS</td>\n",
       "    </tr>\n",
       "  </tbody>\n",
       "</table>\n",
       "</div>"
      ],
      "text/plain": [
       "                         Dataset     DatasetProductName  \\\n",
       "0                      MiniScale              MiniScale   \n",
       "1  1:250 000 Scale Colour Raster  250kScaleColourRaster   \n",
       "2                  Boundary-Line           BoundaryLine   \n",
       "\n",
       "                                                 URL  \\\n",
       "0  https://api.os.uk/downloads/v1/products/MiniSc...   \n",
       "1  https://api.os.uk/downloads/v1/products/250kSc...   \n",
       "2  https://api.os.uk/downloads/v1/products/Bounda...   \n",
       "\n",
       "                                              Format Source  \n",
       "0  Zip file (containing EPS, Illustrator and TIFF...     OS  \n",
       "1                                           TIFF-LZW     OS  \n",
       "2                                    ESRI® Shapefile     OS  "
      ]
     },
     "execution_count": 4,
     "metadata": {},
     "output_type": "execute_result"
    }
   ],
   "source": [
    "# Read the csv file\n",
    "item_url_df = pd.read_csv(lookup_location + item_url_file)\n",
    "item_url_df.head(3)"
   ]
  },
  {
   "cell_type": "code",
   "execution_count": null,
   "id": "8c99bfbd",
   "metadata": {},
   "outputs": [],
   "source": [
    "# get list of OS open data products available to download https://docs.os.uk/os-apis/accessing-os-apis/os-downloads-api/technical-specification/opendata-products\n",
    "url = 'https://api.os.uk/downloads/v1/products'\n",
    "\n",
    "response = requests.get(url)\n",
    "product_list = response.json()"
   ]
  },
  {
   "cell_type": "code",
   "execution_count": null,
   "id": "f08028b6",
   "metadata": {},
   "outputs": [
    {
     "name": "stdout",
     "output_type": "stream",
     "text": [
      "MiniScale\n",
      "2025-01\n",
      "{'md5': '2ee5e66b2579c65d7fe6bd5370de186a', 'size': 311023804, 'url': 'https://api.os.uk/downloads/v1/products/MiniScale/downloads?area=GB&format=Zip+file+%28containing+EPS%2C+Illustrator+and+TIFF-LZW%29&redirect', 'format': 'Zip file (containing EPS, Illustrator and TIFF-LZW)', 'area': 'GB', 'fileName': 'minisc_gb.zip'}\n",
      "https://api.os.uk/downloads/v1/products/MiniScale/downloads?area=GB&format=Zip+file+%28containing+EPS%2C+Illustrator+and+TIFF-LZW%29&redirect\n",
      "250kScaleColourRaster\n",
      "2025-06\n",
      "{'md5': '919da89a6a46bfdee0bb59c450e4539a', 'size': 134123650, 'url': 'https://api.os.uk/downloads/v1/products/250kScaleColourRaster/downloads?area=GB&format=TIFF-LZW&redirect', 'format': 'TIFF-LZW', 'area': 'GB', 'fileName': 'ras250_gb.zip'}\n",
      "https://api.os.uk/downloads/v1/products/250kScaleColourRaster/downloads?area=GB&format=TIFF-LZW&redirect\n",
      "BoundaryLine\n",
      "2025-05\n",
      "{'md5': 'b3d8bd455c55fb34e15f334cc1e4b164', 'size': 781845741, 'url': 'https://api.os.uk/downloads/v1/products/BoundaryLine/downloads?area=GB&format=ESRI%C2%AE+Shapefile&redirect', 'format': 'ESRI® Shapefile', 'area': 'GB', 'fileName': 'bdline_essh_gb.zip'}\n",
      "https://api.os.uk/downloads/v1/products/BoundaryLine/downloads?area=GB&format=ESRI%C2%AE+Shapefile&redirect\n"
     ]
    }
   ],
   "source": [
    "#Loop through each dataset name in lookup\n",
    "for dataset in item_url_df.DatasetProductName.unique():\n",
    "    print(dataset)\n",
    "    # Get details for dataset\n",
    "    dataset_details_list = [d for d in product_list if d['id'] in [dataset]]\n",
    "    print(dataset_details_list[0]['version'])\n",
    "     \n",
    "    # Product download https://docs.os.uk/os-apis/accessing-os-apis/os-downloads-api/technical-specification/download-an-opendata-product\n",
    "    productId = dataset\n",
    "    url_product = f\"https://api.os.uk/downloads/v1//products/{productId}/downloads\"\n",
    "    response_product = requests.get(url_product)\n",
    "    dataset_product_list = response_product.json()\n",
    "\n",
    "    # Set format required from external csv lookup (some datasets have multiple)\n",
    "    format = item_url_df[item_url_df.DatasetProductName==dataset]['Format'].item()\n",
    "    # Set source for creating folder structure\n",
    "    source = item_url_df[item_url_df.DatasetProductName==dataset]['Source'].item()\n",
    "    # Loop through each product in dataset list\n",
    "    for value in dataset_product_list:\n",
    "        print(value)\n",
    "        #Only interested in specified formats/ areas\n",
    "        if value['format'] == format and value['area'] in [\"GB\",\"SP\", \"ST\", \"SU\", \"SO\"]:\n",
    "            # Set variables \n",
    "            dataset_url = value['url']\n",
    "            temp_folder_name = f\"{temp_download_location}\"\n",
    "            folder_name = f\"{download_location}{source}/{dataset}/\"\n",
    "            file_name = f\"{dataset}_{value['area']}.zip\"\n",
    "            \n",
    "            print(dataset_url)\n",
    "\n",
    "            response = requests.get(dataset_url)\n",
    "            # Check if request worked\n",
    "            if response.status_code == 200:\n",
    "                #Create folder if not already there\n",
    "                if not os.path.exists(folder_name):\n",
    "                    os.makedirs(folder_name)\n",
    "                # Create zip file in temp location\n",
    "                with open(temp_folder_name+file_name, mode=\"wb\") as file:\n",
    "                    file.write(response.content)\n",
    "                # Extract zip and move to permanent location\n",
    "                with ZipFile(temp_folder_name+file_name, 'r') as z_object:\n",
    "                    z_object.extractall(path=folder_name)\n",
    "            else:\n",
    "                print(f\"Request failed for {dataset}\")"
   ]
  }
 ],
 "metadata": {
  "kernelspec": {
   "display_name": "data-downloads",
   "language": "python",
   "name": "data-downloads"
  },
  "language_info": {
   "codemirror_mode": {
    "name": "ipython",
    "version": 3
   },
   "file_extension": ".py",
   "mimetype": "text/x-python",
   "name": "python",
   "nbconvert_exporter": "python",
   "pygments_lexer": "ipython3",
   "version": "3.13.7"
  }
 },
 "nbformat": 4,
 "nbformat_minor": 5
}
